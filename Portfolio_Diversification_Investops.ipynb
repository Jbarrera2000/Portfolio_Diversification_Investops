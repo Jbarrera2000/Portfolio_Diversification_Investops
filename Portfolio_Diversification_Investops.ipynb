{
  "nbformat": 4,
  "nbformat_minor": 0,
  "metadata": {
    "colab": {
      "provenance": [],
      "authorship_tag": "ABX9TyN402J2Ytk5FhYQMtJ7zdXY",
      "include_colab_link": true
    },
    "kernelspec": {
      "name": "python3",
      "display_name": "Python 3"
    },
    "language_info": {
      "name": "python"
    }
  },
  "cells": [
    {
      "cell_type": "markdown",
      "metadata": {
        "id": "view-in-github",
        "colab_type": "text"
      },
      "source": [
        "<a href=\"https://colab.research.google.com/github/Jbarrera2000/Portfolio_Diversification_Investops/blob/main/Portfolio_Diversification_Investops.ipynb\" target=\"_parent\"><img src=\"https://colab.research.google.com/assets/colab-badge.svg\" alt=\"Open In Colab\"/></a>"
      ]
    },
    {
      "cell_type": "markdown",
      "source": [
        "# Portfolio Diversification"
      ],
      "metadata": {
        "id": "JpLgDjNbnfrU"
      }
    },
    {
      "cell_type": "markdown",
      "source": [],
      "metadata": {
        "id": "g1KkzpZryw2a"
      }
    },
    {
      "cell_type": "code",
      "source": [
        "!pip install investops numpy pandas matplotlib"
      ],
      "metadata": {
        "colab": {
          "base_uri": "https://localhost:8080/"
        },
        "id": "WrrkmqdAnop9",
        "outputId": "13dec5ed-935a-4986-ad1d-67a134013e3c"
      },
      "execution_count": null,
      "outputs": [
        {
          "output_type": "stream",
          "name": "stdout",
          "text": [
            "Looking in indexes: https://pypi.org/simple, https://us-python.pkg.dev/colab-wheels/public/simple/\n",
            "Collecting investops\n",
            "  Downloading investops-0.4.0-py3-none-any.whl (51 kB)\n",
            "\u001b[K     |████████████████████████████████| 51 kB 435 kB/s \n",
            "\u001b[?25hRequirement already satisfied: numpy in /usr/local/lib/python3.7/dist-packages (1.21.6)\n",
            "Requirement already satisfied: pandas in /usr/local/lib/python3.7/dist-packages (1.3.5)\n",
            "Requirement already satisfied: matplotlib in /usr/local/lib/python3.7/dist-packages (3.2.2)\n",
            "Requirement already satisfied: numba in /usr/local/lib/python3.7/dist-packages (from investops) (0.56.4)\n",
            "Requirement already satisfied: python-dateutil>=2.7.3 in /usr/local/lib/python3.7/dist-packages (from pandas) (2.8.2)\n",
            "Requirement already satisfied: pytz>=2017.3 in /usr/local/lib/python3.7/dist-packages (from pandas) (2022.6)\n",
            "Requirement already satisfied: six>=1.5 in /usr/local/lib/python3.7/dist-packages (from python-dateutil>=2.7.3->pandas) (1.15.0)\n",
            "Requirement already satisfied: kiwisolver>=1.0.1 in /usr/local/lib/python3.7/dist-packages (from matplotlib) (1.4.4)\n",
            "Requirement already satisfied: cycler>=0.10 in /usr/local/lib/python3.7/dist-packages (from matplotlib) (0.11.0)\n",
            "Requirement already satisfied: pyparsing!=2.0.4,!=2.1.2,!=2.1.6,>=2.0.1 in /usr/local/lib/python3.7/dist-packages (from matplotlib) (3.0.9)\n",
            "Requirement already satisfied: typing-extensions in /usr/local/lib/python3.7/dist-packages (from kiwisolver>=1.0.1->matplotlib) (4.1.1)\n",
            "Requirement already satisfied: llvmlite<0.40,>=0.39.0dev0 in /usr/local/lib/python3.7/dist-packages (from numba->investops) (0.39.1)\n",
            "Requirement already satisfied: importlib-metadata in /usr/local/lib/python3.7/dist-packages (from numba->investops) (4.13.0)\n",
            "Requirement already satisfied: setuptools in /usr/local/lib/python3.7/dist-packages (from numba->investops) (57.4.0)\n",
            "Requirement already satisfied: zipp>=0.5 in /usr/local/lib/python3.7/dist-packages (from importlib-metadata->numba->investops) (3.10.0)\n",
            "Installing collected packages: investops\n",
            "Successfully installed investops-0.4.0\n"
          ]
        }
      ]
    },
    {
      "cell_type": "markdown",
      "source": [
        "## **Market exposure:** \n",
        "\n",
        "represents the amount an investor can lose from the risks unique to a particular investment or asset class. It is a tool used to measure and balance risk in an investment portfolio. Having too much exposure to a particular area can indicate a portfolio needs to undergo broader diversification"
      ],
      "metadata": {
        "id": "TrvKOVNsHelH"
      }
    },
    {
      "cell_type": "code",
      "source": [
        "import numpy as np\n",
        "import numba as nb\n",
        "import pandas as pd\n",
        "import matplotlib.pyplot as plt"
      ],
      "metadata": {
        "id": "BWI8wK8QqA8Q"
      },
      "execution_count": null,
      "outputs": []
    },
    {
      "cell_type": "code",
      "source": [
        "import investops as iv\n",
        "from investops.diversify import (full_exposure, full_exposure_par, \n",
        "                                 diversify_weights, log_to_dataframe)\n",
        "from investops.random import rand_normal, rand_corr_normal, rand_zero\n",
        "from investops.normalize import normalize_weights\n",
        "from investops.check import fix_corr_matrix"
      ],
      "metadata": {
        "id": "zvzFGUFtqQYs"
      },
      "execution_count": null,
      "outputs": []
    },
    {
      "cell_type": "code",
      "source": [
        "# Investops for sparse correlation matrix\n",
        "from investops.diversify_sparse import (diversify_weights_sparse,\n",
        "                                        full_exposure_sparse, log_to_dataframe_sparse)\n",
        "from investops.sparse import (sparse_corr_to_numpy,\n",
        "                              sparse_to_matrix, matrix_to_sparse)"
      ],
      "metadata": {
        "id": "iU_APhfoqjJW"
      },
      "execution_count": null,
      "outputs": []
    },
    {
      "cell_type": "code",
      "source": [
        "iv.__version__"
      ],
      "metadata": {
        "colab": {
          "base_uri": "https://localhost:8080/",
          "height": 36
        },
        "id": "_nnQzn2grW96",
        "outputId": "bbb0e57c-93c2-41f8-e2b3-ecc956b72048"
      },
      "execution_count": null,
      "outputs": [
        {
          "output_type": "execute_result",
          "data": {
            "text/plain": [
              "'0.4.0'"
            ],
            "application/vnd.google.colaboratory.intrinsic+json": {
              "type": "string"
            }
          },
          "metadata": {},
          "execution_count": 6
        }
      ]
    },
    {
      "cell_type": "code",
      "source": [
        "# Random number generator\n",
        "rng = np.random.default_rng(seed=80085)"
      ],
      "metadata": {
        "id": "u5KQo45srYrm"
      },
      "execution_count": null,
      "outputs": []
    },
    {
      "cell_type": "markdown",
      "source": [
        "## Positive weight and correlations"
      ],
      "metadata": {
        "id": "M73hYRWVrs7V"
      }
    },
    {
      "cell_type": "code",
      "source": [
        "# Originally desire porfolio weights\n",
        "weights_org=np.array([0.1,0.2,0.3])\n",
        "\n",
        "# Correlation matrix\n",
        "corr = np.array([[1.0,0.5,0.7],\n",
        "                [0.5,1.0,0.2],\n",
        "                [0.7,0.2,1.0]])"
      ],
      "metadata": {
        "id": "HJbNyxLGryII"
      },
      "execution_count": null,
      "outputs": []
    },
    {
      "cell_type": "code",
      "source": [
        "# Calculate and show the full Exposure of the original weights\n",
        "full_exposure(weights=weights_org, corr=corr)"
      ],
      "metadata": {
        "colab": {
          "base_uri": "https://localhost:8080/"
        },
        "id": "m8E4U5bSsUkh",
        "outputId": "67d6fc58-40a7-4d9b-ad9c-22aa55a9fe8a"
      },
      "execution_count": null,
      "outputs": [
        {
          "output_type": "execute_result",
          "data": {
            "text/plain": [
              "array([0.17233688, 0.21771541, 0.32726136])"
            ]
          },
          "metadata": {},
          "execution_count": 9
        }
      ]
    },
    {
      "cell_type": "markdown",
      "source": [
        "*Interpretation:*\n",
        " So the portfolio's Full Exposure is actually 17.2% for Asset 1, 21.8% for Asset 2, and 32.7% for Asset 3, even though the original portfolio weights were only 10%, 20%, and 30%. This is because the Full Exposure measures both the portfolio's direct investment in each asset, as well as the indirect exposure through correlations with other assets in the portfolio."
      ],
      "metadata": {
        "id": "Aj2_8gTcsj_O"
      }
    },
    {
      "cell_type": "markdown",
      "source": [
        "### THE GOAL:\n",
        " find new portfolio weights whose full exposure is equal to the originally desire portfolio weights, and it's done by a function called **diversify_weights**"
      ],
      "metadata": {
        "id": "hyCmKDJlv0Rf"
      }
    },
    {
      "cell_type": "code",
      "source": [
        "# Calculate and show the adjusted portfolio weights \n",
        "diversify_weights(weights_org=weights_org, corr=corr)"
      ],
      "metadata": {
        "colab": {
          "base_uri": "https://localhost:8080/"
        },
        "id": "ClG5Yl28wQo3",
        "outputId": "3b770b41-bc69-49ab-bbc8-aba4fe24aae4"
      },
      "execution_count": null,
      "outputs": [
        {
          "output_type": "execute_result",
          "data": {
            "text/plain": [
              "array([0.0435443 , 0.18911891, 0.28582913])"
            ]
          },
          "metadata": {},
          "execution_count": 10
        }
      ]
    },
    {
      "cell_type": "markdown",
      "source": [
        "*Interpretation:*\n",
        "So we need to invest about 4.3% of the portfolio in Asset 1, 18.9% in Asset 2, and 28.6% in Asset 3, in order for their Full Exposures to equal the originally desired portfolio weights of 10%, 20%, and 30%."
      ],
      "metadata": {
        "id": "AiJCa1uUwu9V"
      }
    },
    {
      "cell_type": "markdown",
      "source": [
        "## Name the assets"
      ],
      "metadata": {
        "id": "NPTRQN0NxCJD"
      }
    },
    {
      "cell_type": "code",
      "source": [
        "# Stock_tickers used as the asset names in the portfolio\n",
        "names=[\"AAPL\", \"GOOG\", \"MSFT\"]"
      ],
      "metadata": {
        "id": "Jc01Bn27xFV4"
      },
      "execution_count": null,
      "outputs": []
    },
    {
      "cell_type": "code",
      "source": [
        "# Convert correlation matrix from Numpy to Pandas Dataframe\n",
        "df_corr = pd.DataFrame(dat\n",
        "                       a=corr, index=names, columns=names)\n",
        "df_corr"
      ],
      "metadata": {
        "colab": {
          "base_uri": "https://localhost:8080/",
          "height": 143
        },
        "id": "-HQlVfdKxQwr",
        "outputId": "511f8a2d-7a4c-4c5d-edb8-a707574d62c1"
      },
      "execution_count": null,
      "outputs": [
        {
          "output_type": "execute_result",
          "data": {
            "text/plain": [
              "      AAPL  GOOG  MSFT\n",
              "AAPL   1.0   0.5   0.7\n",
              "GOOG   0.5   1.0   0.2\n",
              "MSFT   0.7   0.2   1.0"
            ],
            "text/html": [
              "\n",
              "  <div id=\"df-8178d9c4-45c6-4dff-93b7-37c4fc433f59\">\n",
              "    <div class=\"colab-df-container\">\n",
              "      <div>\n",
              "<style scoped>\n",
              "    .dataframe tbody tr th:only-of-type {\n",
              "        vertical-align: middle;\n",
              "    }\n",
              "\n",
              "    .dataframe tbody tr th {\n",
              "        vertical-align: top;\n",
              "    }\n",
              "\n",
              "    .dataframe thead th {\n",
              "        text-align: right;\n",
              "    }\n",
              "</style>\n",
              "<table border=\"1\" class=\"dataframe\">\n",
              "  <thead>\n",
              "    <tr style=\"text-align: right;\">\n",
              "      <th></th>\n",
              "      <th>AAPL</th>\n",
              "      <th>GOOG</th>\n",
              "      <th>MSFT</th>\n",
              "    </tr>\n",
              "  </thead>\n",
              "  <tbody>\n",
              "    <tr>\n",
              "      <th>AAPL</th>\n",
              "      <td>1.0</td>\n",
              "      <td>0.5</td>\n",
              "      <td>0.7</td>\n",
              "    </tr>\n",
              "    <tr>\n",
              "      <th>GOOG</th>\n",
              "      <td>0.5</td>\n",
              "      <td>1.0</td>\n",
              "      <td>0.2</td>\n",
              "    </tr>\n",
              "    <tr>\n",
              "      <th>MSFT</th>\n",
              "      <td>0.7</td>\n",
              "      <td>0.2</td>\n",
              "      <td>1.0</td>\n",
              "    </tr>\n",
              "  </tbody>\n",
              "</table>\n",
              "</div>\n",
              "      <button class=\"colab-df-convert\" onclick=\"convertToInteractive('df-8178d9c4-45c6-4dff-93b7-37c4fc433f59')\"\n",
              "              title=\"Convert this dataframe to an interactive table.\"\n",
              "              style=\"display:none;\">\n",
              "        \n",
              "  <svg xmlns=\"http://www.w3.org/2000/svg\" height=\"24px\"viewBox=\"0 0 24 24\"\n",
              "       width=\"24px\">\n",
              "    <path d=\"M0 0h24v24H0V0z\" fill=\"none\"/>\n",
              "    <path d=\"M18.56 5.44l.94 2.06.94-2.06 2.06-.94-2.06-.94-.94-2.06-.94 2.06-2.06.94zm-11 1L8.5 8.5l.94-2.06 2.06-.94-2.06-.94L8.5 2.5l-.94 2.06-2.06.94zm10 10l.94 2.06.94-2.06 2.06-.94-2.06-.94-.94-2.06-.94 2.06-2.06.94z\"/><path d=\"M17.41 7.96l-1.37-1.37c-.4-.4-.92-.59-1.43-.59-.52 0-1.04.2-1.43.59L10.3 9.45l-7.72 7.72c-.78.78-.78 2.05 0 2.83L4 21.41c.39.39.9.59 1.41.59.51 0 1.02-.2 1.41-.59l7.78-7.78 2.81-2.81c.8-.78.8-2.07 0-2.86zM5.41 20L4 18.59l7.72-7.72 1.47 1.35L5.41 20z\"/>\n",
              "  </svg>\n",
              "      </button>\n",
              "      \n",
              "  <style>\n",
              "    .colab-df-container {\n",
              "      display:flex;\n",
              "      flex-wrap:wrap;\n",
              "      gap: 12px;\n",
              "    }\n",
              "\n",
              "    .colab-df-convert {\n",
              "      background-color: #E8F0FE;\n",
              "      border: none;\n",
              "      border-radius: 50%;\n",
              "      cursor: pointer;\n",
              "      display: none;\n",
              "      fill: #1967D2;\n",
              "      height: 32px;\n",
              "      padding: 0 0 0 0;\n",
              "      width: 32px;\n",
              "    }\n",
              "\n",
              "    .colab-df-convert:hover {\n",
              "      background-color: #E2EBFA;\n",
              "      box-shadow: 0px 1px 2px rgba(60, 64, 67, 0.3), 0px 1px 3px 1px rgba(60, 64, 67, 0.15);\n",
              "      fill: #174EA6;\n",
              "    }\n",
              "\n",
              "    [theme=dark] .colab-df-convert {\n",
              "      background-color: #3B4455;\n",
              "      fill: #D2E3FC;\n",
              "    }\n",
              "\n",
              "    [theme=dark] .colab-df-convert:hover {\n",
              "      background-color: #434B5C;\n",
              "      box-shadow: 0px 1px 3px 1px rgba(0, 0, 0, 0.15);\n",
              "      filter: drop-shadow(0px 1px 2px rgba(0, 0, 0, 0.3));\n",
              "      fill: #FFFFFF;\n",
              "    }\n",
              "  </style>\n",
              "\n",
              "      <script>\n",
              "        const buttonEl =\n",
              "          document.querySelector('#df-8178d9c4-45c6-4dff-93b7-37c4fc433f59 button.colab-df-convert');\n",
              "        buttonEl.style.display =\n",
              "          google.colab.kernel.accessAllowed ? 'block' : 'none';\n",
              "\n",
              "        async function convertToInteractive(key) {\n",
              "          const element = document.querySelector('#df-8178d9c4-45c6-4dff-93b7-37c4fc433f59');\n",
              "          const dataTable =\n",
              "            await google.colab.kernel.invokeFunction('convertToInteractive',\n",
              "                                                     [key], {});\n",
              "          if (!dataTable) return;\n",
              "\n",
              "          const docLinkHtml = 'Like what you see? Visit the ' +\n",
              "            '<a target=\"_blank\" href=https://colab.research.google.com/notebooks/data_table.ipynb>data table notebook</a>'\n",
              "            + ' to learn more about interactive tables.';\n",
              "          element.innerHTML = '';\n",
              "          dataTable['output_type'] = 'display_data';\n",
              "          await google.colab.output.renderOutput(dataTable, element);\n",
              "          const docLink = document.createElement('div');\n",
              "          docLink.innerHTML = docLinkHtml;\n",
              "          element.appendChild(docLink);\n",
              "        }\n",
              "      </script>\n",
              "    </div>\n",
              "  </div>\n",
              "  "
            ]
          },
          "metadata": {},
          "execution_count": 12
        }
      ]
    },
    {
      "cell_type": "code",
      "source": [
        "# Convert Originally desire porfolio weights array to pandas DataFrame\n",
        "df_weights_org = pd.DataFrame(data=weights_org, index=names)\n",
        "df_weights_org"
      ],
      "metadata": {
        "colab": {
          "base_uri": "https://localhost:8080/",
          "height": 143
        },
        "id": "WREUQfSvxhdH",
        "outputId": "0ad01720-aa26-43e6-84a1-10bde46ee04a"
      },
      "execution_count": null,
      "outputs": [
        {
          "output_type": "execute_result",
          "data": {
            "text/plain": [
              "        0\n",
              "AAPL  0.1\n",
              "GOOG  0.2\n",
              "MSFT  0.3"
            ],
            "text/html": [
              "\n",
              "  <div id=\"df-e5e2533b-bee1-4219-bff8-34e022701587\">\n",
              "    <div class=\"colab-df-container\">\n",
              "      <div>\n",
              "<style scoped>\n",
              "    .dataframe tbody tr th:only-of-type {\n",
              "        vertical-align: middle;\n",
              "    }\n",
              "\n",
              "    .dataframe tbody tr th {\n",
              "        vertical-align: top;\n",
              "    }\n",
              "\n",
              "    .dataframe thead th {\n",
              "        text-align: right;\n",
              "    }\n",
              "</style>\n",
              "<table border=\"1\" class=\"dataframe\">\n",
              "  <thead>\n",
              "    <tr style=\"text-align: right;\">\n",
              "      <th></th>\n",
              "      <th>0</th>\n",
              "    </tr>\n",
              "  </thead>\n",
              "  <tbody>\n",
              "    <tr>\n",
              "      <th>AAPL</th>\n",
              "      <td>0.1</td>\n",
              "    </tr>\n",
              "    <tr>\n",
              "      <th>GOOG</th>\n",
              "      <td>0.2</td>\n",
              "    </tr>\n",
              "    <tr>\n",
              "      <th>MSFT</th>\n",
              "      <td>0.3</td>\n",
              "    </tr>\n",
              "  </tbody>\n",
              "</table>\n",
              "</div>\n",
              "      <button class=\"colab-df-convert\" onclick=\"convertToInteractive('df-e5e2533b-bee1-4219-bff8-34e022701587')\"\n",
              "              title=\"Convert this dataframe to an interactive table.\"\n",
              "              style=\"display:none;\">\n",
              "        \n",
              "  <svg xmlns=\"http://www.w3.org/2000/svg\" height=\"24px\"viewBox=\"0 0 24 24\"\n",
              "       width=\"24px\">\n",
              "    <path d=\"M0 0h24v24H0V0z\" fill=\"none\"/>\n",
              "    <path d=\"M18.56 5.44l.94 2.06.94-2.06 2.06-.94-2.06-.94-.94-2.06-.94 2.06-2.06.94zm-11 1L8.5 8.5l.94-2.06 2.06-.94-2.06-.94L8.5 2.5l-.94 2.06-2.06.94zm10 10l.94 2.06.94-2.06 2.06-.94-2.06-.94-.94-2.06-.94 2.06-2.06.94z\"/><path d=\"M17.41 7.96l-1.37-1.37c-.4-.4-.92-.59-1.43-.59-.52 0-1.04.2-1.43.59L10.3 9.45l-7.72 7.72c-.78.78-.78 2.05 0 2.83L4 21.41c.39.39.9.59 1.41.59.51 0 1.02-.2 1.41-.59l7.78-7.78 2.81-2.81c.8-.78.8-2.07 0-2.86zM5.41 20L4 18.59l7.72-7.72 1.47 1.35L5.41 20z\"/>\n",
              "  </svg>\n",
              "      </button>\n",
              "      \n",
              "  <style>\n",
              "    .colab-df-container {\n",
              "      display:flex;\n",
              "      flex-wrap:wrap;\n",
              "      gap: 12px;\n",
              "    }\n",
              "\n",
              "    .colab-df-convert {\n",
              "      background-color: #E8F0FE;\n",
              "      border: none;\n",
              "      border-radius: 50%;\n",
              "      cursor: pointer;\n",
              "      display: none;\n",
              "      fill: #1967D2;\n",
              "      height: 32px;\n",
              "      padding: 0 0 0 0;\n",
              "      width: 32px;\n",
              "    }\n",
              "\n",
              "    .colab-df-convert:hover {\n",
              "      background-color: #E2EBFA;\n",
              "      box-shadow: 0px 1px 2px rgba(60, 64, 67, 0.3), 0px 1px 3px 1px rgba(60, 64, 67, 0.15);\n",
              "      fill: #174EA6;\n",
              "    }\n",
              "\n",
              "    [theme=dark] .colab-df-convert {\n",
              "      background-color: #3B4455;\n",
              "      fill: #D2E3FC;\n",
              "    }\n",
              "\n",
              "    [theme=dark] .colab-df-convert:hover {\n",
              "      background-color: #434B5C;\n",
              "      box-shadow: 0px 1px 3px 1px rgba(0, 0, 0, 0.15);\n",
              "      filter: drop-shadow(0px 1px 2px rgba(0, 0, 0, 0.3));\n",
              "      fill: #FFFFFF;\n",
              "    }\n",
              "  </style>\n",
              "\n",
              "      <script>\n",
              "        const buttonEl =\n",
              "          document.querySelector('#df-e5e2533b-bee1-4219-bff8-34e022701587 button.colab-df-convert');\n",
              "        buttonEl.style.display =\n",
              "          google.colab.kernel.accessAllowed ? 'block' : 'none';\n",
              "\n",
              "        async function convertToInteractive(key) {\n",
              "          const element = document.querySelector('#df-e5e2533b-bee1-4219-bff8-34e022701587');\n",
              "          const dataTable =\n",
              "            await google.colab.kernel.invokeFunction('convertToInteractive',\n",
              "                                                     [key], {});\n",
              "          if (!dataTable) return;\n",
              "\n",
              "          const docLinkHtml = 'Like what you see? Visit the ' +\n",
              "            '<a target=\"_blank\" href=https://colab.research.google.com/notebooks/data_table.ipynb>data table notebook</a>'\n",
              "            + ' to learn more about interactive tables.';\n",
              "          element.innerHTML = '';\n",
              "          dataTable['output_type'] = 'display_data';\n",
              "          await google.colab.output.renderOutput(dataTable, element);\n",
              "          const docLink = document.createElement('div');\n",
              "          docLink.innerHTML = docLinkHtml;\n",
              "          element.appendChild(docLink);\n",
              "        }\n",
              "      </script>\n",
              "    </div>\n",
              "  </div>\n",
              "  "
            ]
          },
          "metadata": {},
          "execution_count": 13
        }
      ]
    },
    {
      "cell_type": "code",
      "source": [
        "# Convert original weights from numpy to Pandas Series\n",
        "ser_weights_org = pd.Series(data=weights_org, index=names)\n",
        "ser_weights_org"
      ],
      "metadata": {
        "colab": {
          "base_uri": "https://localhost:8080/"
        },
        "id": "caVRAwRNyE2n",
        "outputId": "7c70524d-3dbf-4b1e-b84a-8e438f8ce335"
      },
      "execution_count": null,
      "outputs": [
        {
          "output_type": "execute_result",
          "data": {
            "text/plain": [
              "AAPL    0.1\n",
              "GOOG    0.2\n",
              "MSFT    0.3\n",
              "dtype: float64"
            ]
          },
          "metadata": {},
          "execution_count": 14
        }
      ]
    },
    {
      "cell_type": "code",
      "source": [
        "# Call the diversifier with the weights being  a pandas series \n",
        "diversify_weights(weights_org=ser_weights_org, corr=df_corr)"
      ],
      "metadata": {
        "colab": {
          "base_uri": "https://localhost:8080/"
        },
        "id": "R4EuW3enydPI",
        "outputId": "872ae2b0-4462-4278-f674-9727768b4c1d"
      },
      "execution_count": null,
      "outputs": [
        {
          "output_type": "execute_result",
          "data": {
            "text/plain": [
              "AAPL    0.043544\n",
              "GOOG    0.189119\n",
              "MSFT    0.285829\n",
              "dtype: float64"
            ]
          },
          "metadata": {},
          "execution_count": 15
        }
      ]
    },
    {
      "cell_type": "code",
      "source": [
        "#Call the diversifier with the weights being a pandas Dataframe\n",
        "diversify_weights(weights_org=df_weights_org, corr=df_corr)"
      ],
      "metadata": {
        "colab": {
          "base_uri": "https://localhost:8080/"
        },
        "id": "UZjfNxx60cr1",
        "outputId": "16ac4dc6-c770-4b33-8e5d-def16d62652e"
      },
      "execution_count": null,
      "outputs": [
        {
          "output_type": "execute_result",
          "data": {
            "text/plain": [
              "AAPL    0.043544\n",
              "GOOG    0.189119\n",
              "MSFT    0.285829\n",
              "dtype: float64"
            ]
          },
          "metadata": {},
          "execution_count": 16
        }
      ]
    },
    {
      "cell_type": "markdown",
      "source": [
        "*NOTE:*\n",
        "\n",
        " Use pd series instead of pd dataframe is faster for the diversifier, take it into account for High-Frecuency performance"
      ],
      "metadata": {
        "id": "bECRMo4M0-q9"
      }
    },
    {
      "cell_type": "markdown",
      "source": [
        "## Positive / Negative Weights & Correlation\n",
        "\n",
        "(NEW EXAMPLE)"
      ],
      "metadata": {
        "id": "htGfGRLJ1jNK"
      }
    },
    {
      "cell_type": "code",
      "source": [
        "weights_org= np.array([0.1,0.2,-0.3])\n",
        "\n",
        "corr = np.array([[1.0, -0.5, 0.7],\n",
        "                 [-0.5, 1.0, -0.2],\n",
        "                 [0.7, -0.2, 1.0]])"
      ],
      "metadata": {
        "id": "Nk_bj-0_1yya"
      },
      "execution_count": null,
      "outputs": []
    },
    {
      "cell_type": "code",
      "source": [
        "# Calculate the full exposure of the original weights\n",
        "full_exposure(weights=weights_org, corr=corr)"
      ],
      "metadata": {
        "colab": {
          "base_uri": "https://localhost:8080/"
        },
        "id": "V0B0GgAQ2rzT",
        "outputId": "983b78f8-04e6-4382-84d6-bb711b342efa"
      },
      "execution_count": null,
      "outputs": [
        {
          "output_type": "execute_result",
          "data": {
            "text/plain": [
              "array([ 0.1       ,  0.2059126 , -0.30397368])"
            ]
          },
          "metadata": {},
          "execution_count": 18
        }
      ]
    },
    {
      "cell_type": "code",
      "source": [
        "# Calculate adn show the adjusted portfolio weights\n",
        "diversify_weights(weights_org=weights_org, corr=corr)"
      ],
      "metadata": {
        "colab": {
          "base_uri": "https://localhost:8080/"
        },
        "id": "SBv_Os3227bU",
        "outputId": "97b48e81-9abf-4212-d1da-6d837bb4a4f7"
      },
      "execution_count": null,
      "outputs": [
        {
          "output_type": "execute_result",
          "data": {
            "text/plain": [
              "array([ 0.1       ,  0.1941687 , -0.29613922])"
            ]
          },
          "metadata": {},
          "execution_count": 19
        }
      ]
    },
    {
      "cell_type": "markdown",
      "source": [
        "*Interpretation:*\n",
        "\n",
        "So we need to invest 10% of the portfolio in Asset 1 which is the same as the originally desired portfolio weight for Asset 1, because its correlations with the other two assets are deemed \"good\" so they don't require adjustment. But we should only invest 19.4% in Asset 2 and -29.6% in Asset 3. This makes all the Full Exposures equal to the originally desired portfolio weights of 10%, 20%, and -30%.\n",
        "\n"
      ],
      "metadata": {
        "id": "gLIV8DKU6RZy"
      }
    },
    {
      "cell_type": "markdown",
      "source": [
        "## \"Crazy\" Initial Weights"
      ],
      "metadata": {
        "id": "p043kkSi6bqq"
      }
    },
    {
      "cell_type": "code",
      "source": [
        "#Originally desired portfolio weights\n",
        "weights_org = np.array([0.1,0.2,-0.3])\n",
        "\n",
        "weights_guess=np.array([-123,0.001,-789])\n",
        "\n",
        "corr= np.array([[1.0, -0.5, 0.7],\n",
        "                 [-0.5, 1.0, -0.2],\n",
        "                 [0.7, -0.2, 1.0]])"
      ],
      "metadata": {
        "id": "xDmmTQ4D7jUT"
      },
      "execution_count": null,
      "outputs": []
    },
    {
      "cell_type": "markdown",
      "source": [
        "Calculate and show the Full Exposure of the guessed weights.\n",
        "\n",
        "These are very far from the originally desired portfolio weights."
      ],
      "metadata": {
        "id": "qezrTif48OEq"
      }
    },
    {
      "cell_type": "code",
      "source": [
        "full_exposure(weights=weights_guess, corr=corr)"
      ],
      "metadata": {
        "colab": {
          "base_uri": "https://localhost:8080/"
        },
        "id": "2UdkTrpM76m1",
        "outputId": "41a51a62-2df0-4ff4-c41f-29d657b4a4e0"
      },
      "execution_count": null,
      "outputs": [
        {
          "output_type": "execute_result",
          "data": {
            "text/plain": [
              "array([-2.50363857e+02,  2.49621714e-01, -8.18580516e+02])"
            ]
          },
          "metadata": {},
          "execution_count": 21
        }
      ]
    },
    {
      "cell_type": "code",
      "source": [
        "# Calculate the adjusted portfolio weights, using weights_guess\n",
        "# as a starting guess for the adjusted weights. Log all iterations.\n",
        "log=[]\n",
        "diversify_weights(weights_org=weights_org, corr=corr,\n",
        "                  weights_guess=weights_guess, log=log)"
      ],
      "metadata": {
        "colab": {
          "base_uri": "https://localhost:8080/"
        },
        "id": "iipcPMHV8NAn",
        "outputId": "92e69309-5322-4d03-f357-3b7dc3f489ba"
      },
      "execution_count": null,
      "outputs": [
        {
          "output_type": "execute_result",
          "data": {
            "text/plain": [
              "array([ 0.1       ,  0.1941446 , -0.29615551])"
            ]
          },
          "metadata": {},
          "execution_count": 22
        }
      ]
    },
    {
      "cell_type": "code",
      "source": [
        "# Show the log of all the iterations of weight adjustments\n",
        "log_to_dataframe(weights_org=weights_org, corr=corr, log=log)"
      ],
      "metadata": {
        "colab": {
          "base_uri": "https://localhost:8080/",
          "height": 330
        },
        "id": "7VxMqbaM9EAO",
        "outputId": "69b88fec-7b05-434c-d256-7d8fd3435a59"
      },
      "execution_count": null,
      "outputs": [
        {
          "output_type": "execute_result",
          "data": {
            "text/plain": [
              "             Weight 1  Full Exp. 1  Weight 2  Full Exp. 2    Weight 3  \\\n",
              "Iteration                                                               \n",
              "0         -123.000000  -250.363857  0.001000     0.249622 -789.000000   \n",
              "1            0.049128     0.049128  0.000801     0.003148   -0.289159   \n",
              "2            0.100000     0.100000  0.050905     0.056588   -0.299983   \n",
              "3            0.100000     0.100000  0.179916     0.185800   -0.298987   \n",
              "4            0.100000     0.100000  0.193667     0.199508   -0.296453   \n",
              "5            0.100000     0.100000  0.194145     0.199980   -0.296156   \n",
              "\n",
              "           Full Exp. 3           MSE  \n",
              "Iteration                             \n",
              "0          -818.580516  2.441050e+05  \n",
              "1            -0.289175  1.381862e-02  \n",
              "2            -0.301000  6.856036e-03  \n",
              "3            -0.302564  6.940797e-05  \n",
              "4            -0.300302  1.111106e-07  \n",
              "5            -0.300013  1.918659e-10  "
            ],
            "text/html": [
              "\n",
              "  <div id=\"df-6c706f54-407c-4d2d-8568-15b6b6a62d88\">\n",
              "    <div class=\"colab-df-container\">\n",
              "      <div>\n",
              "<style scoped>\n",
              "    .dataframe tbody tr th:only-of-type {\n",
              "        vertical-align: middle;\n",
              "    }\n",
              "\n",
              "    .dataframe tbody tr th {\n",
              "        vertical-align: top;\n",
              "    }\n",
              "\n",
              "    .dataframe thead th {\n",
              "        text-align: right;\n",
              "    }\n",
              "</style>\n",
              "<table border=\"1\" class=\"dataframe\">\n",
              "  <thead>\n",
              "    <tr style=\"text-align: right;\">\n",
              "      <th></th>\n",
              "      <th>Weight 1</th>\n",
              "      <th>Full Exp. 1</th>\n",
              "      <th>Weight 2</th>\n",
              "      <th>Full Exp. 2</th>\n",
              "      <th>Weight 3</th>\n",
              "      <th>Full Exp. 3</th>\n",
              "      <th>MSE</th>\n",
              "    </tr>\n",
              "    <tr>\n",
              "      <th>Iteration</th>\n",
              "      <th></th>\n",
              "      <th></th>\n",
              "      <th></th>\n",
              "      <th></th>\n",
              "      <th></th>\n",
              "      <th></th>\n",
              "      <th></th>\n",
              "    </tr>\n",
              "  </thead>\n",
              "  <tbody>\n",
              "    <tr>\n",
              "      <th>0</th>\n",
              "      <td>-123.000000</td>\n",
              "      <td>-250.363857</td>\n",
              "      <td>0.001000</td>\n",
              "      <td>0.249622</td>\n",
              "      <td>-789.000000</td>\n",
              "      <td>-818.580516</td>\n",
              "      <td>2.441050e+05</td>\n",
              "    </tr>\n",
              "    <tr>\n",
              "      <th>1</th>\n",
              "      <td>0.049128</td>\n",
              "      <td>0.049128</td>\n",
              "      <td>0.000801</td>\n",
              "      <td>0.003148</td>\n",
              "      <td>-0.289159</td>\n",
              "      <td>-0.289175</td>\n",
              "      <td>1.381862e-02</td>\n",
              "    </tr>\n",
              "    <tr>\n",
              "      <th>2</th>\n",
              "      <td>0.100000</td>\n",
              "      <td>0.100000</td>\n",
              "      <td>0.050905</td>\n",
              "      <td>0.056588</td>\n",
              "      <td>-0.299983</td>\n",
              "      <td>-0.301000</td>\n",
              "      <td>6.856036e-03</td>\n",
              "    </tr>\n",
              "    <tr>\n",
              "      <th>3</th>\n",
              "      <td>0.100000</td>\n",
              "      <td>0.100000</td>\n",
              "      <td>0.179916</td>\n",
              "      <td>0.185800</td>\n",
              "      <td>-0.298987</td>\n",
              "      <td>-0.302564</td>\n",
              "      <td>6.940797e-05</td>\n",
              "    </tr>\n",
              "    <tr>\n",
              "      <th>4</th>\n",
              "      <td>0.100000</td>\n",
              "      <td>0.100000</td>\n",
              "      <td>0.193667</td>\n",
              "      <td>0.199508</td>\n",
              "      <td>-0.296453</td>\n",
              "      <td>-0.300302</td>\n",
              "      <td>1.111106e-07</td>\n",
              "    </tr>\n",
              "    <tr>\n",
              "      <th>5</th>\n",
              "      <td>0.100000</td>\n",
              "      <td>0.100000</td>\n",
              "      <td>0.194145</td>\n",
              "      <td>0.199980</td>\n",
              "      <td>-0.296156</td>\n",
              "      <td>-0.300013</td>\n",
              "      <td>1.918659e-10</td>\n",
              "    </tr>\n",
              "  </tbody>\n",
              "</table>\n",
              "</div>\n",
              "      <button class=\"colab-df-convert\" onclick=\"convertToInteractive('df-6c706f54-407c-4d2d-8568-15b6b6a62d88')\"\n",
              "              title=\"Convert this dataframe to an interactive table.\"\n",
              "              style=\"display:none;\">\n",
              "        \n",
              "  <svg xmlns=\"http://www.w3.org/2000/svg\" height=\"24px\"viewBox=\"0 0 24 24\"\n",
              "       width=\"24px\">\n",
              "    <path d=\"M0 0h24v24H0V0z\" fill=\"none\"/>\n",
              "    <path d=\"M18.56 5.44l.94 2.06.94-2.06 2.06-.94-2.06-.94-.94-2.06-.94 2.06-2.06.94zm-11 1L8.5 8.5l.94-2.06 2.06-.94-2.06-.94L8.5 2.5l-.94 2.06-2.06.94zm10 10l.94 2.06.94-2.06 2.06-.94-2.06-.94-.94-2.06-.94 2.06-2.06.94z\"/><path d=\"M17.41 7.96l-1.37-1.37c-.4-.4-.92-.59-1.43-.59-.52 0-1.04.2-1.43.59L10.3 9.45l-7.72 7.72c-.78.78-.78 2.05 0 2.83L4 21.41c.39.39.9.59 1.41.59.51 0 1.02-.2 1.41-.59l7.78-7.78 2.81-2.81c.8-.78.8-2.07 0-2.86zM5.41 20L4 18.59l7.72-7.72 1.47 1.35L5.41 20z\"/>\n",
              "  </svg>\n",
              "      </button>\n",
              "      \n",
              "  <style>\n",
              "    .colab-df-container {\n",
              "      display:flex;\n",
              "      flex-wrap:wrap;\n",
              "      gap: 12px;\n",
              "    }\n",
              "\n",
              "    .colab-df-convert {\n",
              "      background-color: #E8F0FE;\n",
              "      border: none;\n",
              "      border-radius: 50%;\n",
              "      cursor: pointer;\n",
              "      display: none;\n",
              "      fill: #1967D2;\n",
              "      height: 32px;\n",
              "      padding: 0 0 0 0;\n",
              "      width: 32px;\n",
              "    }\n",
              "\n",
              "    .colab-df-convert:hover {\n",
              "      background-color: #E2EBFA;\n",
              "      box-shadow: 0px 1px 2px rgba(60, 64, 67, 0.3), 0px 1px 3px 1px rgba(60, 64, 67, 0.15);\n",
              "      fill: #174EA6;\n",
              "    }\n",
              "\n",
              "    [theme=dark] .colab-df-convert {\n",
              "      background-color: #3B4455;\n",
              "      fill: #D2E3FC;\n",
              "    }\n",
              "\n",
              "    [theme=dark] .colab-df-convert:hover {\n",
              "      background-color: #434B5C;\n",
              "      box-shadow: 0px 1px 3px 1px rgba(0, 0, 0, 0.15);\n",
              "      filter: drop-shadow(0px 1px 2px rgba(0, 0, 0, 0.3));\n",
              "      fill: #FFFFFF;\n",
              "    }\n",
              "  </style>\n",
              "\n",
              "      <script>\n",
              "        const buttonEl =\n",
              "          document.querySelector('#df-6c706f54-407c-4d2d-8568-15b6b6a62d88 button.colab-df-convert');\n",
              "        buttonEl.style.display =\n",
              "          google.colab.kernel.accessAllowed ? 'block' : 'none';\n",
              "\n",
              "        async function convertToInteractive(key) {\n",
              "          const element = document.querySelector('#df-6c706f54-407c-4d2d-8568-15b6b6a62d88');\n",
              "          const dataTable =\n",
              "            await google.colab.kernel.invokeFunction('convertToInteractive',\n",
              "                                                     [key], {});\n",
              "          if (!dataTable) return;\n",
              "\n",
              "          const docLinkHtml = 'Like what you see? Visit the ' +\n",
              "            '<a target=\"_blank\" href=https://colab.research.google.com/notebooks/data_table.ipynb>data table notebook</a>'\n",
              "            + ' to learn more about interactive tables.';\n",
              "          element.innerHTML = '';\n",
              "          dataTable['output_type'] = 'display_data';\n",
              "          await google.colab.output.renderOutput(dataTable, element);\n",
              "          const docLink = document.createElement('div');\n",
              "          docLink.innerHTML = docLinkHtml;\n",
              "          element.appendChild(docLink);\n",
              "        }\n",
              "      </script>\n",
              "    </div>\n",
              "  </div>\n",
              "  "
            ]
          },
          "metadata": {},
          "execution_count": 23
        }
      ]
    },
    {
      "cell_type": "markdown",
      "source": [
        "##Higher Precision\n",
        "\n",
        " we want an even higher precision in the adjusted portfolio weights, so their Full Exposures are even closer to the originally desired weights. This is done by setting the argument tol (short for \"error tolerance\") to a value that is close to, but not equal to zero."
      ],
      "metadata": {
        "id": "NLgbV7h29faZ"
      }
    },
    {
      "cell_type": "code",
      "source": [
        "log=[]\n",
        "diversify_weights(weights_org=weights_org, corr=corr,\n",
        "                  tol=1e-20, log=log)"
      ],
      "metadata": {
        "colab": {
          "base_uri": "https://localhost:8080/"
        },
        "id": "08-qo_RI-3pI",
        "outputId": "949fbc5e-e36b-4840-8e69-ece08819a183"
      },
      "execution_count": null,
      "outputs": [
        {
          "output_type": "execute_result",
          "data": {
            "text/plain": [
              "array([ 0.1       ,  0.19416484, -0.29614184])"
            ]
          },
          "metadata": {},
          "execution_count": 24
        }
      ]
    },
    {
      "cell_type": "code",
      "source": [
        "log_to_dataframe(weights_org=weights_org, corr=corr, log=log)"
      ],
      "metadata": {
        "colab": {
          "base_uri": "https://localhost:8080/",
          "height": 532
        },
        "id": "pW9ChUBY_OR1",
        "outputId": "fc93dea0-0ced-4743-b430-0bb1b53ac945"
      },
      "execution_count": null,
      "outputs": [
        {
          "output_type": "execute_result",
          "data": {
            "text/plain": [
              "           Weight 1  Full Exp. 1  Weight 2  Full Exp. 2  Weight 3  \\\n",
              "Iteration                                                           \n",
              "0               0.1          0.1  0.200000     0.205913 -0.300000   \n",
              "1               0.1          0.1  0.194257     0.200091 -0.296078   \n",
              "2               0.1          0.1  0.194169     0.200004 -0.296139   \n",
              "3               0.1          0.1  0.194165     0.200000 -0.296142   \n",
              "4               0.1          0.1  0.194165     0.200000 -0.296142   \n",
              "5               0.1          0.1  0.194165     0.200000 -0.296142   \n",
              "6               0.1          0.1  0.194165     0.200000 -0.296142   \n",
              "7               0.1          0.1  0.194165     0.200000 -0.296142   \n",
              "8               0.1          0.1  0.194165     0.200000 -0.296142   \n",
              "9               0.1          0.1  0.194165     0.200000 -0.296142   \n",
              "10              0.1          0.1  0.194165     0.200000 -0.296142   \n",
              "11              0.1          0.1  0.194165     0.200000 -0.296142   \n",
              "12              0.1          0.1  0.194165     0.200000 -0.296142   \n",
              "\n",
              "           Full Exp. 3           MSE  \n",
              "Iteration                             \n",
              "0            -0.303974  1.691634e-05  \n",
              "1            -0.299938  4.039732e-09  \n",
              "2            -0.299997  6.963000e-12  \n",
              "3            -0.300000  1.200798e-14  \n",
              "4            -0.300000  2.070865e-17  \n",
              "5            -0.300000  3.571366e-20  \n",
              "6            -0.300000  6.159123e-23  \n",
              "7            -0.300000  1.061951e-25  \n",
              "8            -0.300000  1.841171e-28  \n",
              "9            -0.300000  2.845241e-31  \n",
              "10           -0.300000  1.027163e-33  \n",
              "11           -0.300000  0.000000e+00  \n",
              "12           -0.300000  0.000000e+00  "
            ],
            "text/html": [
              "\n",
              "  <div id=\"df-63cfb6ca-9949-4bf4-afdb-c7a6173018e9\">\n",
              "    <div class=\"colab-df-container\">\n",
              "      <div>\n",
              "<style scoped>\n",
              "    .dataframe tbody tr th:only-of-type {\n",
              "        vertical-align: middle;\n",
              "    }\n",
              "\n",
              "    .dataframe tbody tr th {\n",
              "        vertical-align: top;\n",
              "    }\n",
              "\n",
              "    .dataframe thead th {\n",
              "        text-align: right;\n",
              "    }\n",
              "</style>\n",
              "<table border=\"1\" class=\"dataframe\">\n",
              "  <thead>\n",
              "    <tr style=\"text-align: right;\">\n",
              "      <th></th>\n",
              "      <th>Weight 1</th>\n",
              "      <th>Full Exp. 1</th>\n",
              "      <th>Weight 2</th>\n",
              "      <th>Full Exp. 2</th>\n",
              "      <th>Weight 3</th>\n",
              "      <th>Full Exp. 3</th>\n",
              "      <th>MSE</th>\n",
              "    </tr>\n",
              "    <tr>\n",
              "      <th>Iteration</th>\n",
              "      <th></th>\n",
              "      <th></th>\n",
              "      <th></th>\n",
              "      <th></th>\n",
              "      <th></th>\n",
              "      <th></th>\n",
              "      <th></th>\n",
              "    </tr>\n",
              "  </thead>\n",
              "  <tbody>\n",
              "    <tr>\n",
              "      <th>0</th>\n",
              "      <td>0.1</td>\n",
              "      <td>0.1</td>\n",
              "      <td>0.200000</td>\n",
              "      <td>0.205913</td>\n",
              "      <td>-0.300000</td>\n",
              "      <td>-0.303974</td>\n",
              "      <td>1.691634e-05</td>\n",
              "    </tr>\n",
              "    <tr>\n",
              "      <th>1</th>\n",
              "      <td>0.1</td>\n",
              "      <td>0.1</td>\n",
              "      <td>0.194257</td>\n",
              "      <td>0.200091</td>\n",
              "      <td>-0.296078</td>\n",
              "      <td>-0.299938</td>\n",
              "      <td>4.039732e-09</td>\n",
              "    </tr>\n",
              "    <tr>\n",
              "      <th>2</th>\n",
              "      <td>0.1</td>\n",
              "      <td>0.1</td>\n",
              "      <td>0.194169</td>\n",
              "      <td>0.200004</td>\n",
              "      <td>-0.296139</td>\n",
              "      <td>-0.299997</td>\n",
              "      <td>6.963000e-12</td>\n",
              "    </tr>\n",
              "    <tr>\n",
              "      <th>3</th>\n",
              "      <td>0.1</td>\n",
              "      <td>0.1</td>\n",
              "      <td>0.194165</td>\n",
              "      <td>0.200000</td>\n",
              "      <td>-0.296142</td>\n",
              "      <td>-0.300000</td>\n",
              "      <td>1.200798e-14</td>\n",
              "    </tr>\n",
              "    <tr>\n",
              "      <th>4</th>\n",
              "      <td>0.1</td>\n",
              "      <td>0.1</td>\n",
              "      <td>0.194165</td>\n",
              "      <td>0.200000</td>\n",
              "      <td>-0.296142</td>\n",
              "      <td>-0.300000</td>\n",
              "      <td>2.070865e-17</td>\n",
              "    </tr>\n",
              "    <tr>\n",
              "      <th>5</th>\n",
              "      <td>0.1</td>\n",
              "      <td>0.1</td>\n",
              "      <td>0.194165</td>\n",
              "      <td>0.200000</td>\n",
              "      <td>-0.296142</td>\n",
              "      <td>-0.300000</td>\n",
              "      <td>3.571366e-20</td>\n",
              "    </tr>\n",
              "    <tr>\n",
              "      <th>6</th>\n",
              "      <td>0.1</td>\n",
              "      <td>0.1</td>\n",
              "      <td>0.194165</td>\n",
              "      <td>0.200000</td>\n",
              "      <td>-0.296142</td>\n",
              "      <td>-0.300000</td>\n",
              "      <td>6.159123e-23</td>\n",
              "    </tr>\n",
              "    <tr>\n",
              "      <th>7</th>\n",
              "      <td>0.1</td>\n",
              "      <td>0.1</td>\n",
              "      <td>0.194165</td>\n",
              "      <td>0.200000</td>\n",
              "      <td>-0.296142</td>\n",
              "      <td>-0.300000</td>\n",
              "      <td>1.061951e-25</td>\n",
              "    </tr>\n",
              "    <tr>\n",
              "      <th>8</th>\n",
              "      <td>0.1</td>\n",
              "      <td>0.1</td>\n",
              "      <td>0.194165</td>\n",
              "      <td>0.200000</td>\n",
              "      <td>-0.296142</td>\n",
              "      <td>-0.300000</td>\n",
              "      <td>1.841171e-28</td>\n",
              "    </tr>\n",
              "    <tr>\n",
              "      <th>9</th>\n",
              "      <td>0.1</td>\n",
              "      <td>0.1</td>\n",
              "      <td>0.194165</td>\n",
              "      <td>0.200000</td>\n",
              "      <td>-0.296142</td>\n",
              "      <td>-0.300000</td>\n",
              "      <td>2.845241e-31</td>\n",
              "    </tr>\n",
              "    <tr>\n",
              "      <th>10</th>\n",
              "      <td>0.1</td>\n",
              "      <td>0.1</td>\n",
              "      <td>0.194165</td>\n",
              "      <td>0.200000</td>\n",
              "      <td>-0.296142</td>\n",
              "      <td>-0.300000</td>\n",
              "      <td>1.027163e-33</td>\n",
              "    </tr>\n",
              "    <tr>\n",
              "      <th>11</th>\n",
              "      <td>0.1</td>\n",
              "      <td>0.1</td>\n",
              "      <td>0.194165</td>\n",
              "      <td>0.200000</td>\n",
              "      <td>-0.296142</td>\n",
              "      <td>-0.300000</td>\n",
              "      <td>0.000000e+00</td>\n",
              "    </tr>\n",
              "    <tr>\n",
              "      <th>12</th>\n",
              "      <td>0.1</td>\n",
              "      <td>0.1</td>\n",
              "      <td>0.194165</td>\n",
              "      <td>0.200000</td>\n",
              "      <td>-0.296142</td>\n",
              "      <td>-0.300000</td>\n",
              "      <td>0.000000e+00</td>\n",
              "    </tr>\n",
              "  </tbody>\n",
              "</table>\n",
              "</div>\n",
              "      <button class=\"colab-df-convert\" onclick=\"convertToInteractive('df-63cfb6ca-9949-4bf4-afdb-c7a6173018e9')\"\n",
              "              title=\"Convert this dataframe to an interactive table.\"\n",
              "              style=\"display:none;\">\n",
              "        \n",
              "  <svg xmlns=\"http://www.w3.org/2000/svg\" height=\"24px\"viewBox=\"0 0 24 24\"\n",
              "       width=\"24px\">\n",
              "    <path d=\"M0 0h24v24H0V0z\" fill=\"none\"/>\n",
              "    <path d=\"M18.56 5.44l.94 2.06.94-2.06 2.06-.94-2.06-.94-.94-2.06-.94 2.06-2.06.94zm-11 1L8.5 8.5l.94-2.06 2.06-.94-2.06-.94L8.5 2.5l-.94 2.06-2.06.94zm10 10l.94 2.06.94-2.06 2.06-.94-2.06-.94-.94-2.06-.94 2.06-2.06.94z\"/><path d=\"M17.41 7.96l-1.37-1.37c-.4-.4-.92-.59-1.43-.59-.52 0-1.04.2-1.43.59L10.3 9.45l-7.72 7.72c-.78.78-.78 2.05 0 2.83L4 21.41c.39.39.9.59 1.41.59.51 0 1.02-.2 1.41-.59l7.78-7.78 2.81-2.81c.8-.78.8-2.07 0-2.86zM5.41 20L4 18.59l7.72-7.72 1.47 1.35L5.41 20z\"/>\n",
              "  </svg>\n",
              "      </button>\n",
              "      \n",
              "  <style>\n",
              "    .colab-df-container {\n",
              "      display:flex;\n",
              "      flex-wrap:wrap;\n",
              "      gap: 12px;\n",
              "    }\n",
              "\n",
              "    .colab-df-convert {\n",
              "      background-color: #E8F0FE;\n",
              "      border: none;\n",
              "      border-radius: 50%;\n",
              "      cursor: pointer;\n",
              "      display: none;\n",
              "      fill: #1967D2;\n",
              "      height: 32px;\n",
              "      padding: 0 0 0 0;\n",
              "      width: 32px;\n",
              "    }\n",
              "\n",
              "    .colab-df-convert:hover {\n",
              "      background-color: #E2EBFA;\n",
              "      box-shadow: 0px 1px 2px rgba(60, 64, 67, 0.3), 0px 1px 3px 1px rgba(60, 64, 67, 0.15);\n",
              "      fill: #174EA6;\n",
              "    }\n",
              "\n",
              "    [theme=dark] .colab-df-convert {\n",
              "      background-color: #3B4455;\n",
              "      fill: #D2E3FC;\n",
              "    }\n",
              "\n",
              "    [theme=dark] .colab-df-convert:hover {\n",
              "      background-color: #434B5C;\n",
              "      box-shadow: 0px 1px 3px 1px rgba(0, 0, 0, 0.15);\n",
              "      filter: drop-shadow(0px 1px 2px rgba(0, 0, 0, 0.3));\n",
              "      fill: #FFFFFF;\n",
              "    }\n",
              "  </style>\n",
              "\n",
              "      <script>\n",
              "        const buttonEl =\n",
              "          document.querySelector('#df-63cfb6ca-9949-4bf4-afdb-c7a6173018e9 button.colab-df-convert');\n",
              "        buttonEl.style.display =\n",
              "          google.colab.kernel.accessAllowed ? 'block' : 'none';\n",
              "\n",
              "        async function convertToInteractive(key) {\n",
              "          const element = document.querySelector('#df-63cfb6ca-9949-4bf4-afdb-c7a6173018e9');\n",
              "          const dataTable =\n",
              "            await google.colab.kernel.invokeFunction('convertToInteractive',\n",
              "                                                     [key], {});\n",
              "          if (!dataTable) return;\n",
              "\n",
              "          const docLinkHtml = 'Like what you see? Visit the ' +\n",
              "            '<a target=\"_blank\" href=https://colab.research.google.com/notebooks/data_table.ipynb>data table notebook</a>'\n",
              "            + ' to learn more about interactive tables.';\n",
              "          element.innerHTML = '';\n",
              "          dataTable['output_type'] = 'display_data';\n",
              "          await google.colab.output.renderOutput(dataTable, element);\n",
              "          const docLink = document.createElement('div');\n",
              "          docLink.innerHTML = docLinkHtml;\n",
              "          element.appendChild(docLink);\n",
              "        }\n",
              "      </script>\n",
              "    </div>\n",
              "  </div>\n",
              "  "
            ]
          },
          "metadata": {},
          "execution_count": 25
        }
      ]
    },
    {
      "cell_type": "markdown",
      "source": [
        "Note that the Mean Squared Error (MSE) decreases by several orders of magnitude in each iteration and eventually becomes zero, which means the Full Exposures have become exactly equal to the originally desired portfolio weights"
      ],
      "metadata": {
        "id": "lCw0-zbO_kYf"
      }
    },
    {
      "cell_type": "markdown",
      "source": [
        "## Time Usage"
      ],
      "metadata": {
        "id": "KwLxj7qV_wVs"
      }
    },
    {
      "cell_type": "code",
      "source": [
        "#Number of assets in the portfolio\n",
        "num_assets = 1000\n",
        "\n",
        "#Originaled desired portfolio weights\n",
        "#random generated from normal distribution\n",
        "weights_org= rand_normal(rng=rng, size=num_assets,\n",
        "                         mean=0.0, std=0.05, low=-0.2, high=0.2)\n",
        "\n",
        "#Correlation matrix randomly generated from a normal distribution\n",
        "corr = rand_corr_normal(rng=rng, num_assets=num_assets, mean=0.02)"
      ],
      "metadata": {
        "id": "8FEsrLjTAsrK"
      },
      "execution_count": null,
      "outputs": []
    },
    {
      "cell_type": "code",
      "source": [
        "# Histogram portfolio weights\n",
        "plt.hist(weights_org, bins=100);"
      ],
      "metadata": {
        "colab": {
          "base_uri": "https://localhost:8080/",
          "height": 265
        },
        "id": "CLiVgLApBX-I",
        "outputId": "0f6579ff-fad4-4ba3-888e-fa4e675d0544"
      },
      "execution_count": null,
      "outputs": [
        {
          "output_type": "display_data",
          "data": {
            "text/plain": [
              "<Figure size 432x288 with 1 Axes>"
            ],
            "image/png": "[encoded data removed]"
          },
          "metadata": {
            "needs_background": "light"
          }
        }
      ]
    },
    {
      "cell_type": "code",
      "source": [
        "# Histogram correlation coeficients\n",
        "plt.hist(corr.flatten(), bins=100);"
      ],
      "metadata": {
        "colab": {
          "base_uri": "https://localhost:8080/",
          "height": 265
        },
        "id": "qAvxcI5NBiYJ",
        "outputId": "472eceff-2d47-444c-e71f-e7be13290de3"
      },
      "execution_count": null,
      "outputs": [
        {
          "output_type": "display_data",
          "data": {
            "text/plain": [
              "<Figure size 432x288 with 1 Axes>"
            ],
            "image/png": "[encoded data removed]"
          },
          "metadata": {
            "needs_background": "light"
          }
        }
      ]
    },
    {
      "cell_type": "code",
      "source": [
        "%%timeit\n",
        "#Measure the time usage of the diversification algorithm\n",
        "diversify_weights(weights_org=weights_org, corr=corr)"
      ],
      "metadata": {
        "colab": {
          "base_uri": "https://localhost:8080/"
        },
        "id": "atpRrzzqB0z7",
        "outputId": "2de79e6a-97e5-4235-f3eb-7853de32bc37"
      },
      "execution_count": null,
      "outputs": [
        {
          "output_type": "stream",
          "name": "stdout",
          "text": [
            "30.5 ms ± 4.38 ms per loop (mean ± std. dev. of 7 runs, 100 loops each)\n"
          ]
        }
      ]
    },
    {
      "cell_type": "markdown",
      "source": [
        "So the diversification algorithm only needed about 20 milli-seconds to converge to a near-optimal solution for a portfolio with 1000 assets. \n",
        "\n",
        "The time-complexity is quadratic if you hold the error tolerance fixed (which is the tol argument in the diversify_weights function). This means that for a portfolio of 10,000 assets, you should expect a time-usage of 10*10*20 milli-seconds = 2 seconds."
      ],
      "metadata": {
        "id": "xZaco3QECnxr"
      }
    },
    {
      "cell_type": "markdown",
      "source": [
        "## Compare Weights Before & After"
      ],
      "metadata": {
        "id": "d-vmzTWZDJWE"
      }
    },
    {
      "cell_type": "code",
      "source": [
        "weights_new= diversify_weights(weights_org=weights_org, corr=corr)\n",
        "weights_new[:4]"
      ],
      "metadata": {
        "id": "drsjF5koFGwz",
        "colab": {
          "base_uri": "https://localhost:8080/"
        },
        "outputId": "26b20124-f24a-489b-a641-208903bda447"
      },
      "execution_count": null,
      "outputs": [
        {
          "output_type": "execute_result",
          "data": {
            "text/plain": [
              "array([-8.90071313e-04,  3.03100425e-03, -1.41525229e-03,  9.21978430e-05])"
            ]
          },
          "metadata": {},
          "execution_count": 30
        }
      ]
    },
    {
      "cell_type": "code",
      "source": [
        "plt.scatter(weights_org, weights_new)"
      ],
      "metadata": {
        "colab": {
          "base_uri": "https://localhost:8080/",
          "height": 283
        },
        "id": "05pXMYYsFXyY",
        "outputId": "2685fa36-8afa-4201-88c9-aeac5836d0e2"
      },
      "execution_count": null,
      "outputs": [
        {
          "output_type": "execute_result",
          "data": {
            "text/plain": [
              "<matplotlib.collections.PathCollection at 0x7f392bfa0d90>"
            ]
          },
          "metadata": {},
          "execution_count": 31
        },
        {
          "output_type": "display_data",
          "data": {
            "text/plain": [
              "<Figure size 432x288 with 1 Axes>"
            ],
            "image/png": "[encoded data removed]"
          },
          "metadata": {
            "needs_background": "light"
          }
        }
      ]
    },
    {
      "cell_type": "markdown",
      "source": [
        "It appears that the diversification algorithm \"compresses\" the portfolio weights in a smooth but also non-linear way, so the weights that were originally closer to zero get moved dis-proportionally closer to zero."
      ],
      "metadata": {
        "id": "N-6wlAmNFdIO"
      }
    },
    {
      "cell_type": "markdown",
      "source": [
        "## Weight Normalization"
      ],
      "metadata": {
        "id": "cyv4Spe0LtYq"
      }
    },
    {
      "cell_type": "markdown",
      "source": [
        "The portfolio weights that are output from the function diversify_weights are not normalized, so they can sum to more than 1."
      ],
      "metadata": {
        "id": "xgHTNCraMb0O"
      }
    },
    {
      "cell_type": "code",
      "source": [
        "weights_norm , cash = \\\n",
        "  normalize_weights(weights= weights_new, limit_pos=1.0,\n",
        "                    limit_neg=-0.5, max_ratio=0.2)"
      ],
      "metadata": {
        "id": "JVkFM4ZcMdvN"
      },
      "execution_count": null,
      "outputs": []
    },
    {
      "cell_type": "code",
      "source": [
        "plt.scatter(weights_new, weights_norm)"
      ],
      "metadata": {
        "colab": {
          "base_uri": "https://localhost:8080/",
          "height": 283
        },
        "id": "p5gtqxwbNleb",
        "outputId": "6cd9377e-bc80-41c5-bc55-aca6991d9ee1"
      },
      "execution_count": null,
      "outputs": [
        {
          "output_type": "execute_result",
          "data": {
            "text/plain": [
              "<matplotlib.collections.PathCollection at 0x7f392bfa0350>"
            ]
          },
          "metadata": {},
          "execution_count": 33
        },
        {
          "output_type": "display_data",
          "data": {
            "text/plain": [
              "<Figure size 432x288 with 1 Axes>"
            ],
            "image/png": "[encoded data removed]"
          },
          "metadata": {
            "needs_background": "light"
          }
        }
      ]
    },
    {
      "cell_type": "markdown",
      "source": [
        "## Sparse Correlation Martrix"
      ],
      "metadata": {
        "id": "tatO8rnMNwbh"
      }
    },
    {
      "cell_type": "markdown",
      "source": [
        "We will now use a so-called sparse correlation matrix whose elements are mostly zero. "
      ],
      "metadata": {
        "id": "tTmRBZwMdb-k"
      }
    },
    {
      "cell_type": "code",
      "source": [
        "# Number of assets in the portfolio\n",
        "num_assets= 3"
      ],
      "metadata": {
        "id": "qkQla9BDdcWF"
      },
      "execution_count": null,
      "outputs": []
    },
    {
      "cell_type": "code",
      "source": [
        "# Originally desired portfolio weights\n",
        "weights_org = pd.Series(dict(MSFT=0.1, BBBY=0.3, AAPL=0.2))\n",
        "weights_org"
      ],
      "metadata": {
        "colab": {
          "base_uri": "https://localhost:8080/"
        },
        "id": "-38j9fZAdiGW",
        "outputId": "5247a7bd-6293-4cb2-85a9-c986e2cae8f5"
      },
      "execution_count": null,
      "outputs": [
        {
          "output_type": "execute_result",
          "data": {
            "text/plain": [
              "MSFT    0.1\n",
              "BBBY    0.3\n",
              "AAPL    0.2\n",
              "dtype: float64"
            ]
          },
          "metadata": {},
          "execution_count": 36
        }
      ]
    },
    {
      "cell_type": "code",
      "source": [
        "# Here the correlation between stocks MSFT and BBBY is 0.5\n",
        "# And the correlation between BBBY and AAPL is 0.1\n",
        "corr_sparse= [(\"MSFT\", \"BBBY\", 0.5), (\"AAPL\", \"BBBY\", 0.1)]"
      ],
      "metadata": {
        "id": "pk2K_odZd04X"
      },
      "execution_count": null,
      "outputs": []
    },
    {
      "cell_type": "code",
      "source": [
        "# Converting the sparse correlation matrix into 3 tuples so python can handle it\n",
        "corr_i, corr_j, corr_coef = zip(*corr_sparse)\n",
        "\n",
        "#Print the 3 tuples that define the sparse correlation matrix\n",
        "print(f\"corr_i: {corr_i}\")\n",
        "print(f\"corr_j: {corr_j}\")\n",
        "print(f\"corr_coef: {corr_coef}\")"
      ],
      "metadata": {
        "colab": {
          "base_uri": "https://localhost:8080/"
        },
        "id": "AuML9lIHeRiS",
        "outputId": "9ab49821-74d3-410e-c2ab-382afca99272"
      },
      "execution_count": null,
      "outputs": [
        {
          "output_type": "stream",
          "name": "stdout",
          "text": [
            "corr_i: ('MSFT', 'AAPL')\n",
            "corr_j: ('BBBY', 'BBBY')\n",
            "corr_coef: (0.5, 0.1)\n"
          ]
        }
      ]
    },
    {
      "cell_type": "code",
      "source": [
        "# Convert the weights and sparse correlation matrix into Numpy arrays \n",
        "weights_org_np, corr_i_np, corr_j_np, corr_coef_np = \\\n",
        "  sparse_corr_to_numpy(weights= weights_org, corr_i=corr_i,\n",
        "                       corr_j=corr_j, corr_coef=corr_coef)\n",
        "  \n",
        "print(f\"weights_org_np: {weights_org_np}\")\n",
        "print(f\"corr_i_np: {corr_i_np}\")\n",
        "print(f\"corr_j_np: {corr_j_np}\")\n",
        "print(f\"corr_coef_np: {corr_coef_np}\")"
      ],
      "metadata": {
        "colab": {
          "base_uri": "https://localhost:8080/"
        },
        "id": "9Ru4clqXfByz",
        "outputId": "f79d760e-1beb-4e0e-f3aa-8e4518b25b31"
      },
      "execution_count": null,
      "outputs": [
        {
          "output_type": "stream",
          "name": "stdout",
          "text": [
            "weights_org_np: [0.1 0.3 0.2]\n",
            "corr_i_np: [0 2]\n",
            "corr_j_np: [1 1]\n",
            "corr_coef_np: [0.5 0.1]\n"
          ]
        }
      ]
    },
    {
      "cell_type": "code",
      "source": [
        "# Create a dense correlation matrix so we can compare the sparse\n",
        "# and dense versions of the diversification algorithm later\n",
        "corr_dense = sparse_to_matrix(sparse_i=corr_i_np, sparse_j=corr_j_np, sparse_v=corr_coef_np,\n",
        "                              shape=(num_assets, num_assets))\n",
        "\n",
        "#Make the correlation matrix symetrical\n",
        "corr_dense += corr_dense.T\n",
        "\n",
        "#Fill the ddiagonal with 1.\n",
        "np.fill_diagonal(corr_dense, 1.0)\n",
        "\n",
        "#Show the dense correlation matrix \n",
        "corr_dense\n"
      ],
      "metadata": {
        "colab": {
          "base_uri": "https://localhost:8080/"
        },
        "id": "z0hxI6Lkf2NQ",
        "outputId": "9bddd238-8b6b-4c53-a55b-78081fa870fb"
      },
      "execution_count": null,
      "outputs": [
        {
          "output_type": "execute_result",
          "data": {
            "text/plain": [
              "array([[1. , 0.5, 0. ],\n",
              "       [0.5, 1. , 0.1],\n",
              "       [0. , 0.1, 1. ]])"
            ]
          },
          "metadata": {},
          "execution_count": 48
        }
      ]
    },
    {
      "cell_type": "code",
      "source": [
        "#Calculate the full exposure using SPARSE correlation matrix\n",
        "full_exposure_sparse(weights=weights_org_np, corr_i=corr_i_np,\n",
        "                     corr_j=corr_j_np, corr_coef=corr_coef_np)"
      ],
      "metadata": {
        "colab": {
          "base_uri": "https://localhost:8080/"
        },
        "id": "PFjsUBAjhvvU",
        "outputId": "80b7bb64-5fe5-4120-d62d-ceb90f856736"
      },
      "execution_count": null,
      "outputs": [
        {
          "output_type": "execute_result",
          "data": {
            "text/plain": [
              "array([0.13228757, 0.3132092 , 0.20149442])"
            ]
          },
          "metadata": {},
          "execution_count": 49
        }
      ]
    },
    {
      "cell_type": "code",
      "source": [
        "#Calculate de full exposure using the DENSE correlation matrix\n",
        "full_exposure(weights=weights_org_np, corr=corr_dense)"
      ],
      "metadata": {
        "colab": {
          "base_uri": "https://localhost:8080/"
        },
        "id": "HvCUM_BXiq5z",
        "outputId": "97b87311-cda2-43ff-8890-64413fceea92"
      },
      "execution_count": null,
      "outputs": [
        {
          "output_type": "execute_result",
          "data": {
            "text/plain": [
              "array([0.13228757, 0.3132092 , 0.20149442])"
            ]
          },
          "metadata": {},
          "execution_count": 51
        }
      ]
    },
    {
      "cell_type": "code",
      "source": [
        "#Diversify the portfolio weights using SPARSE correlation matrix\n",
        "diversify_weights_sparse(weights_org=weights_org_np, corr_i=corr_i_np, corr_j=corr_j_np,\n",
        "                         corr_coef=corr_coef_np)"
      ],
      "metadata": {
        "colab": {
          "base_uri": "https://localhost:8080/"
        },
        "id": "bNQWFQN0i5rh",
        "outputId": "a34ce8e0-376b-44f2-bd77-c8579ac975f8"
      },
      "execution_count": null,
      "outputs": [
        {
          "output_type": "execute_result",
          "data": {
            "text/plain": [
              "array([0.07020497, 0.29034873, 0.19855427])"
            ]
          },
          "metadata": {},
          "execution_count": 52
        }
      ]
    },
    {
      "cell_type": "code",
      "source": [
        "#Diversify the portfolio weights using DENSE correlation matrix\n",
        "diversify_weights(weights_org=weights_org_np, corr=corr_dense)"
      ],
      "metadata": {
        "colab": {
          "base_uri": "https://localhost:8080/"
        },
        "id": "eTSipYRJj45W",
        "outputId": "f4331a01-371f-46f2-e112-8f48d502603f"
      },
      "execution_count": null,
      "outputs": [
        {
          "output_type": "execute_result",
          "data": {
            "text/plain": [
              "array([0.07020497, 0.29034873, 0.19855427])"
            ]
          },
          "metadata": {},
          "execution_count": 54
        }
      ]
    },
    {
      "cell_type": "code",
      "source": [
        " # Diversify the portfolio weights using the SPARSE correlation matrix. This uses Pandas Series for the weights and lists of strings for corr_i and j\n",
        " log_sparse=[]\n",
        " diversify_weights_sparse(weights_org=weights_org, corr_i=corr_i,\n",
        "                          corr_j=corr_j, corr_coef=corr_coef,\n",
        "                          log=log_sparse)"
      ],
      "metadata": {
        "colab": {
          "base_uri": "https://localhost:8080/"
        },
        "id": "lmuOcwbOkIyJ",
        "outputId": "47cdd43d-4d91-46ec-f448-688ef85ded77"
      },
      "execution_count": null,
      "outputs": [
        {
          "output_type": "execute_result",
          "data": {
            "text/plain": [
              "MSFT    0.070205\n",
              "BBBY    0.290349\n",
              "AAPL    0.198554\n",
              "dtype: float64"
            ]
          },
          "metadata": {},
          "execution_count": 56
        }
      ]
    },
    {
      "cell_type": "code",
      "source": [
        "# Diversify the portfolio weights using the DENSE correlation matrix. This uses Pandas Series for the weights and DataFrame for the corr\n",
        "log_dense=[]\n",
        "diversify_weights(weights_org=weights_org, corr=corr_dense, log=log_dense)"
      ],
      "metadata": {
        "colab": {
          "base_uri": "https://localhost:8080/"
        },
        "id": "jAhx7seLr6N-",
        "outputId": "d9280bf3-6ba0-4236-c84e-7e520c326ceb"
      },
      "execution_count": null,
      "outputs": [
        {
          "output_type": "execute_result",
          "data": {
            "text/plain": [
              "MSFT    0.070205\n",
              "BBBY    0.290349\n",
              "AAPL    0.198554\n",
              "dtype: float64"
            ]
          },
          "metadata": {},
          "execution_count": 57
        }
      ]
    },
    {
      "cell_type": "code",
      "source": [
        "#Show the log for the algorithm using the SPARSE corr.matrix \n",
        "df_log_sparse= log_to_dataframe_sparse(log=log_sparse,\n",
        "                                       weights_org= weights_org_np, corr_i=corr_i_np,\n",
        "                                       corr_j=corr_j_np, corr_coef=corr_coef_np)\n",
        "df_log_sparse"
      ],
      "metadata": {
        "colab": {
          "base_uri": "https://localhost:8080/",
          "height": 281
        },
        "id": "10HBsrXrsPtz",
        "outputId": "2c574410-283b-47da-a502-91c8125cdb4a"
      },
      "execution_count": null,
      "outputs": [
        {
          "output_type": "execute_result",
          "data": {
            "text/plain": [
              "           Weight 1  Full Exp. 1  Weight 2  Full Exp. 2  Weight 3  \\\n",
              "Iteration                                                           \n",
              "0          0.100000     0.132288  0.300000     0.313209  0.200000   \n",
              "1          0.075593     0.105568  0.287348     0.297606  0.198517   \n",
              "2          0.071606     0.101551  0.289659     0.299437  0.198568   \n",
              "3          0.070512     0.100437  0.290203     0.299850  0.198557   \n",
              "4          0.070205     0.100124  0.290349     0.299958  0.198554   \n",
              "\n",
              "           Full Exp. 3           MSE  \n",
              "Iteration                             \n",
              "0             0.201494  4.064010e-04  \n",
              "1             0.199948  1.224562e-05  \n",
              "2             0.200011  9.078328e-07  \n",
              "3             0.200003  7.121535e-08  \n",
              "4             0.200001  5.670957e-09  "
            ],
            "text/html": [
              "\n",
              "  <div id=\"df-5ed49472-f214-4ef7-adfd-5503f0dad7ad\">\n",
              "    <div class=\"colab-df-container\">\n",
              "      <div>\n",
              "<style scoped>\n",
              "    .dataframe tbody tr th:only-of-type {\n",
              "        vertical-align: middle;\n",
              "    }\n",
              "\n",
              "    .dataframe tbody tr th {\n",
              "        vertical-align: top;\n",
              "    }\n",
              "\n",
              "    .dataframe thead th {\n",
              "        text-align: right;\n",
              "    }\n",
              "</style>\n",
              "<table border=\"1\" class=\"dataframe\">\n",
              "  <thead>\n",
              "    <tr style=\"text-align: right;\">\n",
              "      <th></th>\n",
              "      <th>Weight 1</th>\n",
              "      <th>Full Exp. 1</th>\n",
              "      <th>Weight 2</th>\n",
              "      <th>Full Exp. 2</th>\n",
              "      <th>Weight 3</th>\n",
              "      <th>Full Exp. 3</th>\n",
              "      <th>MSE</th>\n",
              "    </tr>\n",
              "    <tr>\n",
              "      <th>Iteration</th>\n",
              "      <th></th>\n",
              "      <th></th>\n",
              "      <th></th>\n",
              "      <th></th>\n",
              "      <th></th>\n",
              "      <th></th>\n",
              "      <th></th>\n",
              "    </tr>\n",
              "  </thead>\n",
              "  <tbody>\n",
              "    <tr>\n",
              "      <th>0</th>\n",
              "      <td>0.100000</td>\n",
              "      <td>0.132288</td>\n",
              "      <td>0.300000</td>\n",
              "      <td>0.313209</td>\n",
              "      <td>0.200000</td>\n",
              "      <td>0.201494</td>\n",
              "      <td>4.064010e-04</td>\n",
              "    </tr>\n",
              "    <tr>\n",
              "      <th>1</th>\n",
              "      <td>0.075593</td>\n",
              "      <td>0.105568</td>\n",
              "      <td>0.287348</td>\n",
              "      <td>0.297606</td>\n",
              "      <td>0.198517</td>\n",
              "      <td>0.199948</td>\n",
              "      <td>1.224562e-05</td>\n",
              "    </tr>\n",
              "    <tr>\n",
              "      <th>2</th>\n",
              "      <td>0.071606</td>\n",
              "      <td>0.101551</td>\n",
              "      <td>0.289659</td>\n",
              "      <td>0.299437</td>\n",
              "      <td>0.198568</td>\n",
              "      <td>0.200011</td>\n",
              "      <td>9.078328e-07</td>\n",
              "    </tr>\n",
              "    <tr>\n",
              "      <th>3</th>\n",
              "      <td>0.070512</td>\n",
              "      <td>0.100437</td>\n",
              "      <td>0.290203</td>\n",
              "      <td>0.299850</td>\n",
              "      <td>0.198557</td>\n",
              "      <td>0.200003</td>\n",
              "      <td>7.121535e-08</td>\n",
              "    </tr>\n",
              "    <tr>\n",
              "      <th>4</th>\n",
              "      <td>0.070205</td>\n",
              "      <td>0.100124</td>\n",
              "      <td>0.290349</td>\n",
              "      <td>0.299958</td>\n",
              "      <td>0.198554</td>\n",
              "      <td>0.200001</td>\n",
              "      <td>5.670957e-09</td>\n",
              "    </tr>\n",
              "  </tbody>\n",
              "</table>\n",
              "</div>\n",
              "      <button class=\"colab-df-convert\" onclick=\"convertToInteractive('df-5ed49472-f214-4ef7-adfd-5503f0dad7ad')\"\n",
              "              title=\"Convert this dataframe to an interactive table.\"\n",
              "              style=\"display:none;\">\n",
              "        \n",
              "  <svg xmlns=\"http://www.w3.org/2000/svg\" height=\"24px\"viewBox=\"0 0 24 24\"\n",
              "       width=\"24px\">\n",
              "    <path d=\"M0 0h24v24H0V0z\" fill=\"none\"/>\n",
              "    <path d=\"M18.56 5.44l.94 2.06.94-2.06 2.06-.94-2.06-.94-.94-2.06-.94 2.06-2.06.94zm-11 1L8.5 8.5l.94-2.06 2.06-.94-2.06-.94L8.5 2.5l-.94 2.06-2.06.94zm10 10l.94 2.06.94-2.06 2.06-.94-2.06-.94-.94-2.06-.94 2.06-2.06.94z\"/><path d=\"M17.41 7.96l-1.37-1.37c-.4-.4-.92-.59-1.43-.59-.52 0-1.04.2-1.43.59L10.3 9.45l-7.72 7.72c-.78.78-.78 2.05 0 2.83L4 21.41c.39.39.9.59 1.41.59.51 0 1.02-.2 1.41-.59l7.78-7.78 2.81-2.81c.8-.78.8-2.07 0-2.86zM5.41 20L4 18.59l7.72-7.72 1.47 1.35L5.41 20z\"/>\n",
              "  </svg>\n",
              "      </button>\n",
              "      \n",
              "  <style>\n",
              "    .colab-df-container {\n",
              "      display:flex;\n",
              "      flex-wrap:wrap;\n",
              "      gap: 12px;\n",
              "    }\n",
              "\n",
              "    .colab-df-convert {\n",
              "      background-color: #E8F0FE;\n",
              "      border: none;\n",
              "      border-radius: 50%;\n",
              "      cursor: pointer;\n",
              "      display: none;\n",
              "      fill: #1967D2;\n",
              "      height: 32px;\n",
              "      padding: 0 0 0 0;\n",
              "      width: 32px;\n",
              "    }\n",
              "\n",
              "    .colab-df-convert:hover {\n",
              "      background-color: #E2EBFA;\n",
              "      box-shadow: 0px 1px 2px rgba(60, 64, 67, 0.3), 0px 1px 3px 1px rgba(60, 64, 67, 0.15);\n",
              "      fill: #174EA6;\n",
              "    }\n",
              "\n",
              "    [theme=dark] .colab-df-convert {\n",
              "      background-color: #3B4455;\n",
              "      fill: #D2E3FC;\n",
              "    }\n",
              "\n",
              "    [theme=dark] .colab-df-convert:hover {\n",
              "      background-color: #434B5C;\n",
              "      box-shadow: 0px 1px 3px 1px rgba(0, 0, 0, 0.15);\n",
              "      filter: drop-shadow(0px 1px 2px rgba(0, 0, 0, 0.3));\n",
              "      fill: #FFFFFF;\n",
              "    }\n",
              "  </style>\n",
              "\n",
              "      <script>\n",
              "        const buttonEl =\n",
              "          document.querySelector('#df-5ed49472-f214-4ef7-adfd-5503f0dad7ad button.colab-df-convert');\n",
              "        buttonEl.style.display =\n",
              "          google.colab.kernel.accessAllowed ? 'block' : 'none';\n",
              "\n",
              "        async function convertToInteractive(key) {\n",
              "          const element = document.querySelector('#df-5ed49472-f214-4ef7-adfd-5503f0dad7ad');\n",
              "          const dataTable =\n",
              "            await google.colab.kernel.invokeFunction('convertToInteractive',\n",
              "                                                     [key], {});\n",
              "          if (!dataTable) return;\n",
              "\n",
              "          const docLinkHtml = 'Like what you see? Visit the ' +\n",
              "            '<a target=\"_blank\" href=https://colab.research.google.com/notebooks/data_table.ipynb>data table notebook</a>'\n",
              "            + ' to learn more about interactive tables.';\n",
              "          element.innerHTML = '';\n",
              "          dataTable['output_type'] = 'display_data';\n",
              "          await google.colab.output.renderOutput(dataTable, element);\n",
              "          const docLink = document.createElement('div');\n",
              "          docLink.innerHTML = docLinkHtml;\n",
              "          element.appendChild(docLink);\n",
              "        }\n",
              "      </script>\n",
              "    </div>\n",
              "  </div>\n",
              "  "
            ]
          },
          "metadata": {},
          "execution_count": 59
        }
      ]
    },
    {
      "cell_type": "code",
      "source": [
        "# Show the log for the algorithm using DENSE corr matrix\n",
        "df_log_dense = log_to_dataframe(log=log_dense, weights_org= weights_org, corr=corr_dense)\n",
        "\n",
        "df_log_dense"
      ],
      "metadata": {
        "colab": {
          "base_uri": "https://localhost:8080/",
          "height": 281
        },
        "id": "D84VT3gNsukT",
        "outputId": "34898bce-9ecc-44e5-c240-1b34cf9e0a9f"
      },
      "execution_count": null,
      "outputs": [
        {
          "output_type": "execute_result",
          "data": {
            "text/plain": [
              "           Weight 1  Full Exp. 1  Weight 2  Full Exp. 2  Weight 3  \\\n",
              "Iteration                                                           \n",
              "0          0.100000     0.132288  0.300000     0.313209  0.200000   \n",
              "1          0.075593     0.105568  0.287348     0.297606  0.198517   \n",
              "2          0.071606     0.101551  0.289659     0.299437  0.198568   \n",
              "3          0.070512     0.100437  0.290203     0.299850  0.198557   \n",
              "4          0.070205     0.100124  0.290349     0.299958  0.198554   \n",
              "\n",
              "           Full Exp. 3           MSE  \n",
              "Iteration                             \n",
              "0             0.201494  4.064010e-04  \n",
              "1             0.199948  1.224562e-05  \n",
              "2             0.200011  9.078328e-07  \n",
              "3             0.200003  7.121535e-08  \n",
              "4             0.200001  5.670957e-09  "
            ],
            "text/html": [
              "\n",
              "  <div id=\"df-51891626-b8d3-4c8d-9f7e-219c87b00f8b\">\n",
              "    <div class=\"colab-df-container\">\n",
              "      <div>\n",
              "<style scoped>\n",
              "    .dataframe tbody tr th:only-of-type {\n",
              "        vertical-align: middle;\n",
              "    }\n",
              "\n",
              "    .dataframe tbody tr th {\n",
              "        vertical-align: top;\n",
              "    }\n",
              "\n",
              "    .dataframe thead th {\n",
              "        text-align: right;\n",
              "    }\n",
              "</style>\n",
              "<table border=\"1\" class=\"dataframe\">\n",
              "  <thead>\n",
              "    <tr style=\"text-align: right;\">\n",
              "      <th></th>\n",
              "      <th>Weight 1</th>\n",
              "      <th>Full Exp. 1</th>\n",
              "      <th>Weight 2</th>\n",
              "      <th>Full Exp. 2</th>\n",
              "      <th>Weight 3</th>\n",
              "      <th>Full Exp. 3</th>\n",
              "      <th>MSE</th>\n",
              "    </tr>\n",
              "    <tr>\n",
              "      <th>Iteration</th>\n",
              "      <th></th>\n",
              "      <th></th>\n",
              "      <th></th>\n",
              "      <th></th>\n",
              "      <th></th>\n",
              "      <th></th>\n",
              "      <th></th>\n",
              "    </tr>\n",
              "  </thead>\n",
              "  <tbody>\n",
              "    <tr>\n",
              "      <th>0</th>\n",
              "      <td>0.100000</td>\n",
              "      <td>0.132288</td>\n",
              "      <td>0.300000</td>\n",
              "      <td>0.313209</td>\n",
              "      <td>0.200000</td>\n",
              "      <td>0.201494</td>\n",
              "      <td>4.064010e-04</td>\n",
              "    </tr>\n",
              "    <tr>\n",
              "      <th>1</th>\n",
              "      <td>0.075593</td>\n",
              "      <td>0.105568</td>\n",
              "      <td>0.287348</td>\n",
              "      <td>0.297606</td>\n",
              "      <td>0.198517</td>\n",
              "      <td>0.199948</td>\n",
              "      <td>1.224562e-05</td>\n",
              "    </tr>\n",
              "    <tr>\n",
              "      <th>2</th>\n",
              "      <td>0.071606</td>\n",
              "      <td>0.101551</td>\n",
              "      <td>0.289659</td>\n",
              "      <td>0.299437</td>\n",
              "      <td>0.198568</td>\n",
              "      <td>0.200011</td>\n",
              "      <td>9.078328e-07</td>\n",
              "    </tr>\n",
              "    <tr>\n",
              "      <th>3</th>\n",
              "      <td>0.070512</td>\n",
              "      <td>0.100437</td>\n",
              "      <td>0.290203</td>\n",
              "      <td>0.299850</td>\n",
              "      <td>0.198557</td>\n",
              "      <td>0.200003</td>\n",
              "      <td>7.121535e-08</td>\n",
              "    </tr>\n",
              "    <tr>\n",
              "      <th>4</th>\n",
              "      <td>0.070205</td>\n",
              "      <td>0.100124</td>\n",
              "      <td>0.290349</td>\n",
              "      <td>0.299958</td>\n",
              "      <td>0.198554</td>\n",
              "      <td>0.200001</td>\n",
              "      <td>5.670957e-09</td>\n",
              "    </tr>\n",
              "  </tbody>\n",
              "</table>\n",
              "</div>\n",
              "      <button class=\"colab-df-convert\" onclick=\"convertToInteractive('df-51891626-b8d3-4c8d-9f7e-219c87b00f8b')\"\n",
              "              title=\"Convert this dataframe to an interactive table.\"\n",
              "              style=\"display:none;\">\n",
              "        \n",
              "  <svg xmlns=\"http://www.w3.org/2000/svg\" height=\"24px\"viewBox=\"0 0 24 24\"\n",
              "       width=\"24px\">\n",
              "    <path d=\"M0 0h24v24H0V0z\" fill=\"none\"/>\n",
              "    <path d=\"M18.56 5.44l.94 2.06.94-2.06 2.06-.94-2.06-.94-.94-2.06-.94 2.06-2.06.94zm-11 1L8.5 8.5l.94-2.06 2.06-.94-2.06-.94L8.5 2.5l-.94 2.06-2.06.94zm10 10l.94 2.06.94-2.06 2.06-.94-2.06-.94-.94-2.06-.94 2.06-2.06.94z\"/><path d=\"M17.41 7.96l-1.37-1.37c-.4-.4-.92-.59-1.43-.59-.52 0-1.04.2-1.43.59L10.3 9.45l-7.72 7.72c-.78.78-.78 2.05 0 2.83L4 21.41c.39.39.9.59 1.41.59.51 0 1.02-.2 1.41-.59l7.78-7.78 2.81-2.81c.8-.78.8-2.07 0-2.86zM5.41 20L4 18.59l7.72-7.72 1.47 1.35L5.41 20z\"/>\n",
              "  </svg>\n",
              "      </button>\n",
              "      \n",
              "  <style>\n",
              "    .colab-df-container {\n",
              "      display:flex;\n",
              "      flex-wrap:wrap;\n",
              "      gap: 12px;\n",
              "    }\n",
              "\n",
              "    .colab-df-convert {\n",
              "      background-color: #E8F0FE;\n",
              "      border: none;\n",
              "      border-radius: 50%;\n",
              "      cursor: pointer;\n",
              "      display: none;\n",
              "      fill: #1967D2;\n",
              "      height: 32px;\n",
              "      padding: 0 0 0 0;\n",
              "      width: 32px;\n",
              "    }\n",
              "\n",
              "    .colab-df-convert:hover {\n",
              "      background-color: #E2EBFA;\n",
              "      box-shadow: 0px 1px 2px rgba(60, 64, 67, 0.3), 0px 1px 3px 1px rgba(60, 64, 67, 0.15);\n",
              "      fill: #174EA6;\n",
              "    }\n",
              "\n",
              "    [theme=dark] .colab-df-convert {\n",
              "      background-color: #3B4455;\n",
              "      fill: #D2E3FC;\n",
              "    }\n",
              "\n",
              "    [theme=dark] .colab-df-convert:hover {\n",
              "      background-color: #434B5C;\n",
              "      box-shadow: 0px 1px 3px 1px rgba(0, 0, 0, 0.15);\n",
              "      filter: drop-shadow(0px 1px 2px rgba(0, 0, 0, 0.3));\n",
              "      fill: #FFFFFF;\n",
              "    }\n",
              "  </style>\n",
              "\n",
              "      <script>\n",
              "        const buttonEl =\n",
              "          document.querySelector('#df-51891626-b8d3-4c8d-9f7e-219c87b00f8b button.colab-df-convert');\n",
              "        buttonEl.style.display =\n",
              "          google.colab.kernel.accessAllowed ? 'block' : 'none';\n",
              "\n",
              "        async function convertToInteractive(key) {\n",
              "          const element = document.querySelector('#df-51891626-b8d3-4c8d-9f7e-219c87b00f8b');\n",
              "          const dataTable =\n",
              "            await google.colab.kernel.invokeFunction('convertToInteractive',\n",
              "                                                     [key], {});\n",
              "          if (!dataTable) return;\n",
              "\n",
              "          const docLinkHtml = 'Like what you see? Visit the ' +\n",
              "            '<a target=\"_blank\" href=https://colab.research.google.com/notebooks/data_table.ipynb>data table notebook</a>'\n",
              "            + ' to learn more about interactive tables.';\n",
              "          element.innerHTML = '';\n",
              "          dataTable['output_type'] = 'display_data';\n",
              "          await google.colab.output.renderOutput(dataTable, element);\n",
              "          const docLink = document.createElement('div');\n",
              "          docLink.innerHTML = docLinkHtml;\n",
              "          element.appendChild(docLink);\n",
              "        }\n",
              "      </script>\n",
              "    </div>\n",
              "  </div>\n",
              "  "
            ]
          },
          "metadata": {},
          "execution_count": 61
        }
      ]
    },
    {
      "cell_type": "markdown",
      "source": [
        "## BIG EXAMPLE"
      ],
      "metadata": {
        "id": "rtE0s-EjtN9p"
      }
    },
    {
      "cell_type": "code",
      "source": [
        "# Number of asssets in the portfolio\n",
        "num_assets = 1000\n",
        "\n",
        "#generate random portfolio weights \n",
        "weights_org = rand_normal(rng=rng, size=num_assets,\n",
        "                          low=-0.1, high=1.0)\n",
        "\n",
        "#Generate random correlation matrix \n",
        "corr_dense = rand_corr_normal(rng=rng, num_assets=num_assets)\n",
        "\n",
        "#Randomly set about 99% of the ccorr matriz to zero\n",
        "corr_dense = rand_zero(rng=rng , x=corr_dense, prob=0.99)\n",
        "\n",
        "# make the corr matrix symmetrical again\n",
        "corr_dense += corr_dense.T\n",
        "\n",
        "#Ensure it is a valid correlation matrix\n",
        "fix_corr_matrix(corr=corr_dense, copy=False)\n",
        "\n",
        "#Only use the upper triangle of the corr matrix\n",
        "corr_dense_triu = np.triu(corr_dense, k=1)\n",
        "\n",
        "#Convert to a sparse matrix in coordinate (COO) format\n",
        "corr_i, corr_j, corr_coef = matrix_to_sparse(mat= corr_dense_triu)"
      ],
      "metadata": {
        "id": "ol1k8DAIuWuW"
      },
      "execution_count": null,
      "outputs": []
    },
    {
      "cell_type": "code",
      "source": [
        "#Convert the sparse matrix to a dense matrix \n",
        "mat = sparse_to_matrix(shape=(num_assets, num_assets),\n",
        "                       sparse_i= corr_i, sparse_j=corr_j, sparse_v=corr_coef)\n",
        "\n",
        "#Raise an exception if there are big differences\n",
        "np.testing.assert_allclose(mat, corr_dense_triu)"
      ],
      "metadata": {
        "id": "TUl7es1UvH_2"
      },
      "execution_count": null,
      "outputs": []
    },
    {
      "cell_type": "code",
      "source": [
        "#Diversify the portfolio using the SPARSE corr matrix\n",
        "log_sparse = []\n",
        "weights_new_sparse= diversify_weights_sparse(weights_org= weights_org,\n",
        "                                      corr_i=corr_i, corr_j=corr_j, \n",
        "                                      corr_coef=corr_coef, log=log_sparse)\n"
      ],
      "metadata": {
        "id": "NzrfMDrHxw9R"
      },
      "execution_count": null,
      "outputs": []
    },
    {
      "cell_type": "code",
      "source": [
        "#Diversify the portfolio using the DENSE correlation matrix\n",
        "log_dense=[]\n",
        "\n",
        "weights_new_dense = diversify_weights(weights_org=weights_org, corr=corr_dense,\n",
        "                                      )"
      ],
      "metadata": {
        "id": "f37W13wYyt3N"
      },
      "execution_count": null,
      "outputs": []
    },
    {
      "cell_type": "code",
      "source": [
        "np.testing.assert_allclose(weights_new_sparse, weights_new_dense)"
      ],
      "metadata": {
        "id": "6f7x_D64zCss"
      },
      "execution_count": null,
      "outputs": []
    },
    {
      "cell_type": "code",
      "source": [
        "## Sparse vs Dense Algorithm Results\n",
        "df_log_sparse = log_to_dataframe_sparse(weights_org=weights_org,\n",
        "                                         corr_i=corr_i, corr_j=corr_j, corr_coef=corr_coef,\n",
        "                                         log=log_sparse)\n",
        " \n",
        "df_log_sparse.head()"
      ],
      "metadata": {
        "colab": {
          "base_uri": "https://localhost:8080/",
          "height": 452
        },
        "id": "FLdbj0oMzWLX",
        "outputId": "d8a7f790-fce7-4c95-a715-0b42d90bb5ec"
      },
      "execution_count": null,
      "outputs": [
        {
          "output_type": "execute_result",
          "data": {
            "text/plain": [
              "           Weight 1  Full Exp. 1  Weight 2  Full Exp. 2  Weight 3  \\\n",
              "Iteration                                                           \n",
              "0         -0.015528    -0.018513  0.006683     0.012504  0.033048   \n",
              "1         -0.013024    -0.015540  0.003572     0.008100  0.028515   \n",
              "2         -0.013014    -0.015505  0.002947     0.007234  0.028423   \n",
              "3         -0.013033    -0.015515  0.002723     0.006908  0.028418   \n",
              "4         -0.013044    -0.015523  0.002634     0.006778  0.028421   \n",
              "\n",
              "           Full Exp. 3  Weight 4  Full Exp. 4  Weight 5  Full Exp. 5  ...  \\\n",
              "Iteration                                                             ...   \n",
              "0             0.038303  0.072795     0.078386 -0.005125    -0.007726  ...   \n",
              "1             0.033155  0.067603     0.071795 -0.003400    -0.005532  ...   \n",
              "2             0.033055  0.068544     0.072596 -0.003149    -0.005247  ...   \n",
              "3             0.033045  0.068732     0.072744 -0.003076    -0.005160  ...   \n",
              "4             0.033046  0.068780     0.072779 -0.003055    -0.005134  ...   \n",
              "\n",
              "           Full Exp. 996  Weight 997  Full Exp. 997  Weight 998  \\\n",
              "Iteration                                                         \n",
              "0               0.029659   -0.048243      -0.074906    0.031307   \n",
              "1               0.025225   -0.031071      -0.051338    0.025223   \n",
              "2               0.025119   -0.029198      -0.049332    0.024879   \n",
              "3               0.025098   -0.028554      -0.048684    0.024763   \n",
              "4               0.025094   -0.028295      -0.048430    0.024724   \n",
              "\n",
              "           Full Exp. 998  Weight 999  Full Exp. 999  Weight 1000  \\\n",
              "Iteration                                                          \n",
              "0               0.038860   -0.014692      -0.016545    -0.000221   \n",
              "1               0.031741   -0.013045      -0.014563    -0.000017   \n",
              "2               0.031453   -0.013161      -0.014662    -0.000005   \n",
              "3               0.031357   -0.013187      -0.014682    -0.000003   \n",
              "4               0.031324   -0.013196      -0.014687    -0.000002   \n",
              "\n",
              "           Full Exp. 1000           MSE  \n",
              "Iteration                                \n",
              "0               -0.002884  4.434873e-05  \n",
              "1               -0.000776  8.415078e-07  \n",
              "2               -0.000414  1.108019e-07  \n",
              "3               -0.000302  1.830199e-08  \n",
              "4               -0.000259  3.379296e-09  \n",
              "\n",
              "[5 rows x 2001 columns]"
            ],
            "text/html": [
              "\n",
              "  <div id=\"df-780c44ac-cc0e-4a3a-a940-b86d01e2af2d\">\n",
              "    <div class=\"colab-df-container\">\n",
              "      <div>\n",
              "<style scoped>\n",
              "    .dataframe tbody tr th:only-of-type {\n",
              "        vertical-align: middle;\n",
              "    }\n",
              "\n",
              "    .dataframe tbody tr th {\n",
              "        vertical-align: top;\n",
              "    }\n",
              "\n",
              "    .dataframe thead th {\n",
              "        text-align: right;\n",
              "    }\n",
              "</style>\n",
              "<table border=\"1\" class=\"dataframe\">\n",
              "  <thead>\n",
              "    <tr style=\"text-align: right;\">\n",
              "      <th></th>\n",
              "      <th>Weight 1</th>\n",
              "      <th>Full Exp. 1</th>\n",
              "      <th>Weight 2</th>\n",
              "      <th>Full Exp. 2</th>\n",
              "      <th>Weight 3</th>\n",
              "      <th>Full Exp. 3</th>\n",
              "      <th>Weight 4</th>\n",
              "      <th>Full Exp. 4</th>\n",
              "      <th>Weight 5</th>\n",
              "      <th>Full Exp. 5</th>\n",
              "      <th>...</th>\n",
              "      <th>Full Exp. 996</th>\n",
              "      <th>Weight 997</th>\n",
              "      <th>Full Exp. 997</th>\n",
              "      <th>Weight 998</th>\n",
              "      <th>Full Exp. 998</th>\n",
              "      <th>Weight 999</th>\n",
              "      <th>Full Exp. 999</th>\n",
              "      <th>Weight 1000</th>\n",
              "      <th>Full Exp. 1000</th>\n",
              "      <th>MSE</th>\n",
              "    </tr>\n",
              "    <tr>\n",
              "      <th>Iteration</th>\n",
              "      <th></th>\n",
              "      <th></th>\n",
              "      <th></th>\n",
              "      <th></th>\n",
              "      <th></th>\n",
              "      <th></th>\n",
              "      <th></th>\n",
              "      <th></th>\n",
              "      <th></th>\n",
              "      <th></th>\n",
              "      <th></th>\n",
              "      <th></th>\n",
              "      <th></th>\n",
              "      <th></th>\n",
              "      <th></th>\n",
              "      <th></th>\n",
              "      <th></th>\n",
              "      <th></th>\n",
              "      <th></th>\n",
              "      <th></th>\n",
              "      <th></th>\n",
              "    </tr>\n",
              "  </thead>\n",
              "  <tbody>\n",
              "    <tr>\n",
              "      <th>0</th>\n",
              "      <td>-0.015528</td>\n",
              "      <td>-0.018513</td>\n",
              "      <td>0.006683</td>\n",
              "      <td>0.012504</td>\n",
              "      <td>0.033048</td>\n",
              "      <td>0.038303</td>\n",
              "      <td>0.072795</td>\n",
              "      <td>0.078386</td>\n",
              "      <td>-0.005125</td>\n",
              "      <td>-0.007726</td>\n",
              "      <td>...</td>\n",
              "      <td>0.029659</td>\n",
              "      <td>-0.048243</td>\n",
              "      <td>-0.074906</td>\n",
              "      <td>0.031307</td>\n",
              "      <td>0.038860</td>\n",
              "      <td>-0.014692</td>\n",
              "      <td>-0.016545</td>\n",
              "      <td>-0.000221</td>\n",
              "      <td>-0.002884</td>\n",
              "      <td>4.434873e-05</td>\n",
              "    </tr>\n",
              "    <tr>\n",
              "      <th>1</th>\n",
              "      <td>-0.013024</td>\n",
              "      <td>-0.015540</td>\n",
              "      <td>0.003572</td>\n",
              "      <td>0.008100</td>\n",
              "      <td>0.028515</td>\n",
              "      <td>0.033155</td>\n",
              "      <td>0.067603</td>\n",
              "      <td>0.071795</td>\n",
              "      <td>-0.003400</td>\n",
              "      <td>-0.005532</td>\n",
              "      <td>...</td>\n",
              "      <td>0.025225</td>\n",
              "      <td>-0.031071</td>\n",
              "      <td>-0.051338</td>\n",
              "      <td>0.025223</td>\n",
              "      <td>0.031741</td>\n",
              "      <td>-0.013045</td>\n",
              "      <td>-0.014563</td>\n",
              "      <td>-0.000017</td>\n",
              "      <td>-0.000776</td>\n",
              "      <td>8.415078e-07</td>\n",
              "    </tr>\n",
              "    <tr>\n",
              "      <th>2</th>\n",
              "      <td>-0.013014</td>\n",
              "      <td>-0.015505</td>\n",
              "      <td>0.002947</td>\n",
              "      <td>0.007234</td>\n",
              "      <td>0.028423</td>\n",
              "      <td>0.033055</td>\n",
              "      <td>0.068544</td>\n",
              "      <td>0.072596</td>\n",
              "      <td>-0.003149</td>\n",
              "      <td>-0.005247</td>\n",
              "      <td>...</td>\n",
              "      <td>0.025119</td>\n",
              "      <td>-0.029198</td>\n",
              "      <td>-0.049332</td>\n",
              "      <td>0.024879</td>\n",
              "      <td>0.031453</td>\n",
              "      <td>-0.013161</td>\n",
              "      <td>-0.014662</td>\n",
              "      <td>-0.000005</td>\n",
              "      <td>-0.000414</td>\n",
              "      <td>1.108019e-07</td>\n",
              "    </tr>\n",
              "    <tr>\n",
              "      <th>3</th>\n",
              "      <td>-0.013033</td>\n",
              "      <td>-0.015515</td>\n",
              "      <td>0.002723</td>\n",
              "      <td>0.006908</td>\n",
              "      <td>0.028418</td>\n",
              "      <td>0.033045</td>\n",
              "      <td>0.068732</td>\n",
              "      <td>0.072744</td>\n",
              "      <td>-0.003076</td>\n",
              "      <td>-0.005160</td>\n",
              "      <td>...</td>\n",
              "      <td>0.025098</td>\n",
              "      <td>-0.028554</td>\n",
              "      <td>-0.048684</td>\n",
              "      <td>0.024763</td>\n",
              "      <td>0.031357</td>\n",
              "      <td>-0.013187</td>\n",
              "      <td>-0.014682</td>\n",
              "      <td>-0.000003</td>\n",
              "      <td>-0.000302</td>\n",
              "      <td>1.830199e-08</td>\n",
              "    </tr>\n",
              "    <tr>\n",
              "      <th>4</th>\n",
              "      <td>-0.013044</td>\n",
              "      <td>-0.015523</td>\n",
              "      <td>0.002634</td>\n",
              "      <td>0.006778</td>\n",
              "      <td>0.028421</td>\n",
              "      <td>0.033046</td>\n",
              "      <td>0.068780</td>\n",
              "      <td>0.072779</td>\n",
              "      <td>-0.003055</td>\n",
              "      <td>-0.005134</td>\n",
              "      <td>...</td>\n",
              "      <td>0.025094</td>\n",
              "      <td>-0.028295</td>\n",
              "      <td>-0.048430</td>\n",
              "      <td>0.024724</td>\n",
              "      <td>0.031324</td>\n",
              "      <td>-0.013196</td>\n",
              "      <td>-0.014687</td>\n",
              "      <td>-0.000002</td>\n",
              "      <td>-0.000259</td>\n",
              "      <td>3.379296e-09</td>\n",
              "    </tr>\n",
              "  </tbody>\n",
              "</table>\n",
              "<p>5 rows × 2001 columns</p>\n",
              "</div>\n",
              "      <button class=\"colab-df-convert\" onclick=\"convertToInteractive('df-780c44ac-cc0e-4a3a-a940-b86d01e2af2d')\"\n",
              "              title=\"Convert this dataframe to an interactive table.\"\n",
              "              style=\"display:none;\">\n",
              "        \n",
              "  <svg xmlns=\"http://www.w3.org/2000/svg\" height=\"24px\"viewBox=\"0 0 24 24\"\n",
              "       width=\"24px\">\n",
              "    <path d=\"M0 0h24v24H0V0z\" fill=\"none\"/>\n",
              "    <path d=\"M18.56 5.44l.94 2.06.94-2.06 2.06-.94-2.06-.94-.94-2.06-.94 2.06-2.06.94zm-11 1L8.5 8.5l.94-2.06 2.06-.94-2.06-.94L8.5 2.5l-.94 2.06-2.06.94zm10 10l.94 2.06.94-2.06 2.06-.94-2.06-.94-.94-2.06-.94 2.06-2.06.94z\"/><path d=\"M17.41 7.96l-1.37-1.37c-.4-.4-.92-.59-1.43-.59-.52 0-1.04.2-1.43.59L10.3 9.45l-7.72 7.72c-.78.78-.78 2.05 0 2.83L4 21.41c.39.39.9.59 1.41.59.51 0 1.02-.2 1.41-.59l7.78-7.78 2.81-2.81c.8-.78.8-2.07 0-2.86zM5.41 20L4 18.59l7.72-7.72 1.47 1.35L5.41 20z\"/>\n",
              "  </svg>\n",
              "      </button>\n",
              "      \n",
              "  <style>\n",
              "    .colab-df-container {\n",
              "      display:flex;\n",
              "      flex-wrap:wrap;\n",
              "      gap: 12px;\n",
              "    }\n",
              "\n",
              "    .colab-df-convert {\n",
              "      background-color: #E8F0FE;\n",
              "      border: none;\n",
              "      border-radius: 50%;\n",
              "      cursor: pointer;\n",
              "      display: none;\n",
              "      fill: #1967D2;\n",
              "      height: 32px;\n",
              "      padding: 0 0 0 0;\n",
              "      width: 32px;\n",
              "    }\n",
              "\n",
              "    .colab-df-convert:hover {\n",
              "      background-color: #E2EBFA;\n",
              "      box-shadow: 0px 1px 2px rgba(60, 64, 67, 0.3), 0px 1px 3px 1px rgba(60, 64, 67, 0.15);\n",
              "      fill: #174EA6;\n",
              "    }\n",
              "\n",
              "    [theme=dark] .colab-df-convert {\n",
              "      background-color: #3B4455;\n",
              "      fill: #D2E3FC;\n",
              "    }\n",
              "\n",
              "    [theme=dark] .colab-df-convert:hover {\n",
              "      background-color: #434B5C;\n",
              "      box-shadow: 0px 1px 3px 1px rgba(0, 0, 0, 0.15);\n",
              "      filter: drop-shadow(0px 1px 2px rgba(0, 0, 0, 0.3));\n",
              "      fill: #FFFFFF;\n",
              "    }\n",
              "  </style>\n",
              "\n",
              "      <script>\n",
              "        const buttonEl =\n",
              "          document.querySelector('#df-780c44ac-cc0e-4a3a-a940-b86d01e2af2d button.colab-df-convert');\n",
              "        buttonEl.style.display =\n",
              "          google.colab.kernel.accessAllowed ? 'block' : 'none';\n",
              "\n",
              "        async function convertToInteractive(key) {\n",
              "          const element = document.querySelector('#df-780c44ac-cc0e-4a3a-a940-b86d01e2af2d');\n",
              "          const dataTable =\n",
              "            await google.colab.kernel.invokeFunction('convertToInteractive',\n",
              "                                                     [key], {});\n",
              "          if (!dataTable) return;\n",
              "\n",
              "          const docLinkHtml = 'Like what you see? Visit the ' +\n",
              "            '<a target=\"_blank\" href=https://colab.research.google.com/notebooks/data_table.ipynb>data table notebook</a>'\n",
              "            + ' to learn more about interactive tables.';\n",
              "          element.innerHTML = '';\n",
              "          dataTable['output_type'] = 'display_data';\n",
              "          await google.colab.output.renderOutput(dataTable, element);\n",
              "          const docLink = document.createElement('div');\n",
              "          docLink.innerHTML = docLinkHtml;\n",
              "          element.appendChild(docLink);\n",
              "        }\n",
              "      </script>\n",
              "    </div>\n",
              "  </div>\n",
              "  "
            ]
          },
          "metadata": {},
          "execution_count": 81
        }
      ]
    },
    {
      "cell_type": "code",
      "source": [
        "df_log_dense = log_to_dataframe(weights_org=weights_org, corr=corr_dense,\n",
        "                                log=log_dense)\n",
        "\n",
        "df_log_dense"
      ],
      "metadata": {
        "colab": {
          "base_uri": "https://localhost:8080/",
          "height": 452
        },
        "id": "5BLCBZe0z6n5",
        "outputId": "553a23f2-ffe8-44e6-e860-8ee6b1d32e4c"
      },
      "execution_count": null,
      "outputs": [
        {
          "output_type": "execute_result",
          "data": {
            "text/plain": [
              "           Weight 1  Full Exp. 1  Weight 2  Full Exp. 2  Weight 3  \\\n",
              "Iteration                                                           \n",
              "0         -0.015528    -0.018513  0.006683     0.012504  0.033048   \n",
              "1         -0.013024    -0.015540  0.003572     0.008100  0.028515   \n",
              "2         -0.013014    -0.015505  0.002947     0.007234  0.028423   \n",
              "3         -0.013033    -0.015515  0.002723     0.006908  0.028418   \n",
              "4         -0.013044    -0.015523  0.002634     0.006778  0.028421   \n",
              "\n",
              "           Full Exp. 3  Weight 4  Full Exp. 4  Weight 5  Full Exp. 5  ...  \\\n",
              "Iteration                                                             ...   \n",
              "0             0.038303  0.072795     0.078386 -0.005125    -0.007726  ...   \n",
              "1             0.033155  0.067603     0.071795 -0.003400    -0.005532  ...   \n",
              "2             0.033055  0.068544     0.072596 -0.003149    -0.005247  ...   \n",
              "3             0.033045  0.068732     0.072744 -0.003076    -0.005160  ...   \n",
              "4             0.033046  0.068780     0.072779 -0.003055    -0.005134  ...   \n",
              "\n",
              "           Full Exp. 996  Weight 997  Full Exp. 997  Weight 998  \\\n",
              "Iteration                                                         \n",
              "0               0.029659   -0.048243      -0.074906    0.031307   \n",
              "1               0.025225   -0.031071      -0.051338    0.025223   \n",
              "2               0.025119   -0.029198      -0.049332    0.024879   \n",
              "3               0.025098   -0.028554      -0.048684    0.024763   \n",
              "4               0.025094   -0.028295      -0.048430    0.024724   \n",
              "\n",
              "           Full Exp. 998  Weight 999  Full Exp. 999  Weight 1000  \\\n",
              "Iteration                                                          \n",
              "0               0.038860   -0.014692      -0.016545    -0.000221   \n",
              "1               0.031741   -0.013045      -0.014563    -0.000017   \n",
              "2               0.031453   -0.013161      -0.014662    -0.000005   \n",
              "3               0.031357   -0.013187      -0.014682    -0.000003   \n",
              "4               0.031324   -0.013196      -0.014687    -0.000002   \n",
              "\n",
              "           Full Exp. 1000           MSE  \n",
              "Iteration                                \n",
              "0               -0.002884  4.434873e-05  \n",
              "1               -0.000776  8.415078e-07  \n",
              "2               -0.000414  1.108019e-07  \n",
              "3               -0.000302  1.830199e-08  \n",
              "4               -0.000259  3.379296e-09  \n",
              "\n",
              "[5 rows x 2001 columns]"
            ],
            "text/html": [
              "\n",
              "  <div id=\"df-2680053a-f301-472f-8f24-36661bfb2080\">\n",
              "    <div class=\"colab-df-container\">\n",
              "      <div>\n",
              "<style scoped>\n",
              "    .dataframe tbody tr th:only-of-type {\n",
              "        vertical-align: middle;\n",
              "    }\n",
              "\n",
              "    .dataframe tbody tr th {\n",
              "        vertical-align: top;\n",
              "    }\n",
              "\n",
              "    .dataframe thead th {\n",
              "        text-align: right;\n",
              "    }\n",
              "</style>\n",
              "<table border=\"1\" class=\"dataframe\">\n",
              "  <thead>\n",
              "    <tr style=\"text-align: right;\">\n",
              "      <th></th>\n",
              "      <th>Weight 1</th>\n",
              "      <th>Full Exp. 1</th>\n",
              "      <th>Weight 2</th>\n",
              "      <th>Full Exp. 2</th>\n",
              "      <th>Weight 3</th>\n",
              "      <th>Full Exp. 3</th>\n",
              "      <th>Weight 4</th>\n",
              "      <th>Full Exp. 4</th>\n",
              "      <th>Weight 5</th>\n",
              "      <th>Full Exp. 5</th>\n",
              "      <th>...</th>\n",
              "      <th>Full Exp. 996</th>\n",
              "      <th>Weight 997</th>\n",
              "      <th>Full Exp. 997</th>\n",
              "      <th>Weight 998</th>\n",
              "      <th>Full Exp. 998</th>\n",
              "      <th>Weight 999</th>\n",
              "      <th>Full Exp. 999</th>\n",
              "      <th>Weight 1000</th>\n",
              "      <th>Full Exp. 1000</th>\n",
              "      <th>MSE</th>\n",
              "    </tr>\n",
              "    <tr>\n",
              "      <th>Iteration</th>\n",
              "      <th></th>\n",
              "      <th></th>\n",
              "      <th></th>\n",
              "      <th></th>\n",
              "      <th></th>\n",
              "      <th></th>\n",
              "      <th></th>\n",
              "      <th></th>\n",
              "      <th></th>\n",
              "      <th></th>\n",
              "      <th></th>\n",
              "      <th></th>\n",
              "      <th></th>\n",
              "      <th></th>\n",
              "      <th></th>\n",
              "      <th></th>\n",
              "      <th></th>\n",
              "      <th></th>\n",
              "      <th></th>\n",
              "      <th></th>\n",
              "      <th></th>\n",
              "    </tr>\n",
              "  </thead>\n",
              "  <tbody>\n",
              "    <tr>\n",
              "      <th>0</th>\n",
              "      <td>-0.015528</td>\n",
              "      <td>-0.018513</td>\n",
              "      <td>0.006683</td>\n",
              "      <td>0.012504</td>\n",
              "      <td>0.033048</td>\n",
              "      <td>0.038303</td>\n",
              "      <td>0.072795</td>\n",
              "      <td>0.078386</td>\n",
              "      <td>-0.005125</td>\n",
              "      <td>-0.007726</td>\n",
              "      <td>...</td>\n",
              "      <td>0.029659</td>\n",
              "      <td>-0.048243</td>\n",
              "      <td>-0.074906</td>\n",
              "      <td>0.031307</td>\n",
              "      <td>0.038860</td>\n",
              "      <td>-0.014692</td>\n",
              "      <td>-0.016545</td>\n",
              "      <td>-0.000221</td>\n",
              "      <td>-0.002884</td>\n",
              "      <td>4.434873e-05</td>\n",
              "    </tr>\n",
              "    <tr>\n",
              "      <th>1</th>\n",
              "      <td>-0.013024</td>\n",
              "      <td>-0.015540</td>\n",
              "      <td>0.003572</td>\n",
              "      <td>0.008100</td>\n",
              "      <td>0.028515</td>\n",
              "      <td>0.033155</td>\n",
              "      <td>0.067603</td>\n",
              "      <td>0.071795</td>\n",
              "      <td>-0.003400</td>\n",
              "      <td>-0.005532</td>\n",
              "      <td>...</td>\n",
              "      <td>0.025225</td>\n",
              "      <td>-0.031071</td>\n",
              "      <td>-0.051338</td>\n",
              "      <td>0.025223</td>\n",
              "      <td>0.031741</td>\n",
              "      <td>-0.013045</td>\n",
              "      <td>-0.014563</td>\n",
              "      <td>-0.000017</td>\n",
              "      <td>-0.000776</td>\n",
              "      <td>8.415078e-07</td>\n",
              "    </tr>\n",
              "    <tr>\n",
              "      <th>2</th>\n",
              "      <td>-0.013014</td>\n",
              "      <td>-0.015505</td>\n",
              "      <td>0.002947</td>\n",
              "      <td>0.007234</td>\n",
              "      <td>0.028423</td>\n",
              "      <td>0.033055</td>\n",
              "      <td>0.068544</td>\n",
              "      <td>0.072596</td>\n",
              "      <td>-0.003149</td>\n",
              "      <td>-0.005247</td>\n",
              "      <td>...</td>\n",
              "      <td>0.025119</td>\n",
              "      <td>-0.029198</td>\n",
              "      <td>-0.049332</td>\n",
              "      <td>0.024879</td>\n",
              "      <td>0.031453</td>\n",
              "      <td>-0.013161</td>\n",
              "      <td>-0.014662</td>\n",
              "      <td>-0.000005</td>\n",
              "      <td>-0.000414</td>\n",
              "      <td>1.108019e-07</td>\n",
              "    </tr>\n",
              "    <tr>\n",
              "      <th>3</th>\n",
              "      <td>-0.013033</td>\n",
              "      <td>-0.015515</td>\n",
              "      <td>0.002723</td>\n",
              "      <td>0.006908</td>\n",
              "      <td>0.028418</td>\n",
              "      <td>0.033045</td>\n",
              "      <td>0.068732</td>\n",
              "      <td>0.072744</td>\n",
              "      <td>-0.003076</td>\n",
              "      <td>-0.005160</td>\n",
              "      <td>...</td>\n",
              "      <td>0.025098</td>\n",
              "      <td>-0.028554</td>\n",
              "      <td>-0.048684</td>\n",
              "      <td>0.024763</td>\n",
              "      <td>0.031357</td>\n",
              "      <td>-0.013187</td>\n",
              "      <td>-0.014682</td>\n",
              "      <td>-0.000003</td>\n",
              "      <td>-0.000302</td>\n",
              "      <td>1.830199e-08</td>\n",
              "    </tr>\n",
              "    <tr>\n",
              "      <th>4</th>\n",
              "      <td>-0.013044</td>\n",
              "      <td>-0.015523</td>\n",
              "      <td>0.002634</td>\n",
              "      <td>0.006778</td>\n",
              "      <td>0.028421</td>\n",
              "      <td>0.033046</td>\n",
              "      <td>0.068780</td>\n",
              "      <td>0.072779</td>\n",
              "      <td>-0.003055</td>\n",
              "      <td>-0.005134</td>\n",
              "      <td>...</td>\n",
              "      <td>0.025094</td>\n",
              "      <td>-0.028295</td>\n",
              "      <td>-0.048430</td>\n",
              "      <td>0.024724</td>\n",
              "      <td>0.031324</td>\n",
              "      <td>-0.013196</td>\n",
              "      <td>-0.014687</td>\n",
              "      <td>-0.000002</td>\n",
              "      <td>-0.000259</td>\n",
              "      <td>3.379296e-09</td>\n",
              "    </tr>\n",
              "  </tbody>\n",
              "</table>\n",
              "<p>5 rows × 2001 columns</p>\n",
              "</div>\n",
              "      <button class=\"colab-df-convert\" onclick=\"convertToInteractive('df-2680053a-f301-472f-8f24-36661bfb2080')\"\n",
              "              title=\"Convert this dataframe to an interactive table.\"\n",
              "              style=\"display:none;\">\n",
              "        \n",
              "  <svg xmlns=\"http://www.w3.org/2000/svg\" height=\"24px\"viewBox=\"0 0 24 24\"\n",
              "       width=\"24px\">\n",
              "    <path d=\"M0 0h24v24H0V0z\" fill=\"none\"/>\n",
              "    <path d=\"M18.56 5.44l.94 2.06.94-2.06 2.06-.94-2.06-.94-.94-2.06-.94 2.06-2.06.94zm-11 1L8.5 8.5l.94-2.06 2.06-.94-2.06-.94L8.5 2.5l-.94 2.06-2.06.94zm10 10l.94 2.06.94-2.06 2.06-.94-2.06-.94-.94-2.06-.94 2.06-2.06.94z\"/><path d=\"M17.41 7.96l-1.37-1.37c-.4-.4-.92-.59-1.43-.59-.52 0-1.04.2-1.43.59L10.3 9.45l-7.72 7.72c-.78.78-.78 2.05 0 2.83L4 21.41c.39.39.9.59 1.41.59.51 0 1.02-.2 1.41-.59l7.78-7.78 2.81-2.81c.8-.78.8-2.07 0-2.86zM5.41 20L4 18.59l7.72-7.72 1.47 1.35L5.41 20z\"/>\n",
              "  </svg>\n",
              "      </button>\n",
              "      \n",
              "  <style>\n",
              "    .colab-df-container {\n",
              "      display:flex;\n",
              "      flex-wrap:wrap;\n",
              "      gap: 12px;\n",
              "    }\n",
              "\n",
              "    .colab-df-convert {\n",
              "      background-color: #E8F0FE;\n",
              "      border: none;\n",
              "      border-radius: 50%;\n",
              "      cursor: pointer;\n",
              "      display: none;\n",
              "      fill: #1967D2;\n",
              "      height: 32px;\n",
              "      padding: 0 0 0 0;\n",
              "      width: 32px;\n",
              "    }\n",
              "\n",
              "    .colab-df-convert:hover {\n",
              "      background-color: #E2EBFA;\n",
              "      box-shadow: 0px 1px 2px rgba(60, 64, 67, 0.3), 0px 1px 3px 1px rgba(60, 64, 67, 0.15);\n",
              "      fill: #174EA6;\n",
              "    }\n",
              "\n",
              "    [theme=dark] .colab-df-convert {\n",
              "      background-color: #3B4455;\n",
              "      fill: #D2E3FC;\n",
              "    }\n",
              "\n",
              "    [theme=dark] .colab-df-convert:hover {\n",
              "      background-color: #434B5C;\n",
              "      box-shadow: 0px 1px 3px 1px rgba(0, 0, 0, 0.15);\n",
              "      filter: drop-shadow(0px 1px 2px rgba(0, 0, 0, 0.3));\n",
              "      fill: #FFFFFF;\n",
              "    }\n",
              "  </style>\n",
              "\n",
              "      <script>\n",
              "        const buttonEl =\n",
              "          document.querySelector('#df-2680053a-f301-472f-8f24-36661bfb2080 button.colab-df-convert');\n",
              "        buttonEl.style.display =\n",
              "          google.colab.kernel.accessAllowed ? 'block' : 'none';\n",
              "\n",
              "        async function convertToInteractive(key) {\n",
              "          const element = document.querySelector('#df-2680053a-f301-472f-8f24-36661bfb2080');\n",
              "          const dataTable =\n",
              "            await google.colab.kernel.invokeFunction('convertToInteractive',\n",
              "                                                     [key], {});\n",
              "          if (!dataTable) return;\n",
              "\n",
              "          const docLinkHtml = 'Like what you see? Visit the ' +\n",
              "            '<a target=\"_blank\" href=https://colab.research.google.com/notebooks/data_table.ipynb>data table notebook</a>'\n",
              "            + ' to learn more about interactive tables.';\n",
              "          element.innerHTML = '';\n",
              "          dataTable['output_type'] = 'display_data';\n",
              "          await google.colab.output.renderOutput(dataTable, element);\n",
              "          const docLink = document.createElement('div');\n",
              "          docLink.innerHTML = docLinkHtml;\n",
              "          element.appendChild(docLink);\n",
              "        }\n",
              "      </script>\n",
              "    </div>\n",
              "  </div>\n",
              "  "
            ]
          },
          "metadata": {},
          "execution_count": 78
        }
      ]
    },
    {
      "cell_type": "code",
      "source": [
        "# Show the log's min/max difference between SPARSE and DENSE results\n",
        "df_log_dif= df_log_sparse - df_log_dense\n",
        "df_log_dif.T.describe().T[[\"min\", \"max\"]]"
      ],
      "metadata": {
        "colab": {
          "base_uri": "https://localhost:8080/",
          "height": 237
        },
        "id": "V6uWNmVe00qU",
        "outputId": "81fec632-2407-4259-cfc0-cb7c2cbfb722"
      },
      "execution_count": null,
      "outputs": [
        {
          "output_type": "execute_result",
          "data": {
            "text/plain": [
              "                    min           max\n",
              "Iteration                            \n",
              "0         -1.387779e-17  2.775558e-17\n",
              "1         -5.551115e-17  2.775558e-17\n",
              "2         -4.163336e-17  2.775558e-17\n",
              "3         -4.163336e-17  2.775558e-17\n",
              "4         -4.163336e-17  4.163336e-17"
            ],
            "text/html": [
              "\n",
              "  <div id=\"df-4e0dad6d-a335-49c5-a276-a92fe3ed234d\">\n",
              "    <div class=\"colab-df-container\">\n",
              "      <div>\n",
              "<style scoped>\n",
              "    .dataframe tbody tr th:only-of-type {\n",
              "        vertical-align: middle;\n",
              "    }\n",
              "\n",
              "    .dataframe tbody tr th {\n",
              "        vertical-align: top;\n",
              "    }\n",
              "\n",
              "    .dataframe thead th {\n",
              "        text-align: right;\n",
              "    }\n",
              "</style>\n",
              "<table border=\"1\" class=\"dataframe\">\n",
              "  <thead>\n",
              "    <tr style=\"text-align: right;\">\n",
              "      <th></th>\n",
              "      <th>min</th>\n",
              "      <th>max</th>\n",
              "    </tr>\n",
              "    <tr>\n",
              "      <th>Iteration</th>\n",
              "      <th></th>\n",
              "      <th></th>\n",
              "    </tr>\n",
              "  </thead>\n",
              "  <tbody>\n",
              "    <tr>\n",
              "      <th>0</th>\n",
              "      <td>-1.387779e-17</td>\n",
              "      <td>2.775558e-17</td>\n",
              "    </tr>\n",
              "    <tr>\n",
              "      <th>1</th>\n",
              "      <td>-5.551115e-17</td>\n",
              "      <td>2.775558e-17</td>\n",
              "    </tr>\n",
              "    <tr>\n",
              "      <th>2</th>\n",
              "      <td>-4.163336e-17</td>\n",
              "      <td>2.775558e-17</td>\n",
              "    </tr>\n",
              "    <tr>\n",
              "      <th>3</th>\n",
              "      <td>-4.163336e-17</td>\n",
              "      <td>2.775558e-17</td>\n",
              "    </tr>\n",
              "    <tr>\n",
              "      <th>4</th>\n",
              "      <td>-4.163336e-17</td>\n",
              "      <td>4.163336e-17</td>\n",
              "    </tr>\n",
              "  </tbody>\n",
              "</table>\n",
              "</div>\n",
              "      <button class=\"colab-df-convert\" onclick=\"convertToInteractive('df-4e0dad6d-a335-49c5-a276-a92fe3ed234d')\"\n",
              "              title=\"Convert this dataframe to an interactive table.\"\n",
              "              style=\"display:none;\">\n",
              "        \n",
              "  <svg xmlns=\"http://www.w3.org/2000/svg\" height=\"24px\"viewBox=\"0 0 24 24\"\n",
              "       width=\"24px\">\n",
              "    <path d=\"M0 0h24v24H0V0z\" fill=\"none\"/>\n",
              "    <path d=\"M18.56 5.44l.94 2.06.94-2.06 2.06-.94-2.06-.94-.94-2.06-.94 2.06-2.06.94zm-11 1L8.5 8.5l.94-2.06 2.06-.94-2.06-.94L8.5 2.5l-.94 2.06-2.06.94zm10 10l.94 2.06.94-2.06 2.06-.94-2.06-.94-.94-2.06-.94 2.06-2.06.94z\"/><path d=\"M17.41 7.96l-1.37-1.37c-.4-.4-.92-.59-1.43-.59-.52 0-1.04.2-1.43.59L10.3 9.45l-7.72 7.72c-.78.78-.78 2.05 0 2.83L4 21.41c.39.39.9.59 1.41.59.51 0 1.02-.2 1.41-.59l7.78-7.78 2.81-2.81c.8-.78.8-2.07 0-2.86zM5.41 20L4 18.59l7.72-7.72 1.47 1.35L5.41 20z\"/>\n",
              "  </svg>\n",
              "      </button>\n",
              "      \n",
              "  <style>\n",
              "    .colab-df-container {\n",
              "      display:flex;\n",
              "      flex-wrap:wrap;\n",
              "      gap: 12px;\n",
              "    }\n",
              "\n",
              "    .colab-df-convert {\n",
              "      background-color: #E8F0FE;\n",
              "      border: none;\n",
              "      border-radius: 50%;\n",
              "      cursor: pointer;\n",
              "      display: none;\n",
              "      fill: #1967D2;\n",
              "      height: 32px;\n",
              "      padding: 0 0 0 0;\n",
              "      width: 32px;\n",
              "    }\n",
              "\n",
              "    .colab-df-convert:hover {\n",
              "      background-color: #E2EBFA;\n",
              "      box-shadow: 0px 1px 2px rgba(60, 64, 67, 0.3), 0px 1px 3px 1px rgba(60, 64, 67, 0.15);\n",
              "      fill: #174EA6;\n",
              "    }\n",
              "\n",
              "    [theme=dark] .colab-df-convert {\n",
              "      background-color: #3B4455;\n",
              "      fill: #D2E3FC;\n",
              "    }\n",
              "\n",
              "    [theme=dark] .colab-df-convert:hover {\n",
              "      background-color: #434B5C;\n",
              "      box-shadow: 0px 1px 3px 1px rgba(0, 0, 0, 0.15);\n",
              "      filter: drop-shadow(0px 1px 2px rgba(0, 0, 0, 0.3));\n",
              "      fill: #FFFFFF;\n",
              "    }\n",
              "  </style>\n",
              "\n",
              "      <script>\n",
              "        const buttonEl =\n",
              "          document.querySelector('#df-4e0dad6d-a335-49c5-a276-a92fe3ed234d button.colab-df-convert');\n",
              "        buttonEl.style.display =\n",
              "          google.colab.kernel.accessAllowed ? 'block' : 'none';\n",
              "\n",
              "        async function convertToInteractive(key) {\n",
              "          const element = document.querySelector('#df-4e0dad6d-a335-49c5-a276-a92fe3ed234d');\n",
              "          const dataTable =\n",
              "            await google.colab.kernel.invokeFunction('convertToInteractive',\n",
              "                                                     [key], {});\n",
              "          if (!dataTable) return;\n",
              "\n",
              "          const docLinkHtml = 'Like what you see? Visit the ' +\n",
              "            '<a target=\"_blank\" href=https://colab.research.google.com/notebooks/data_table.ipynb>data table notebook</a>'\n",
              "            + ' to learn more about interactive tables.';\n",
              "          element.innerHTML = '';\n",
              "          dataTable['output_type'] = 'display_data';\n",
              "          await google.colab.output.renderOutput(dataTable, element);\n",
              "          const docLink = document.createElement('div');\n",
              "          docLink.innerHTML = docLinkHtml;\n",
              "          element.appendChild(docLink);\n",
              "        }\n",
              "      </script>\n",
              "    </div>\n",
              "  </div>\n",
              "  "
            ]
          },
          "metadata": {},
          "execution_count": 82
        }
      ]
    },
    {
      "cell_type": "markdown",
      "source": [
        "## Parallel vs. Serial Execution"
      ],
      "metadata": {
        "id": "4_08QUP41Yiw"
      }
    },
    {
      "cell_type": "markdown",
      "source": [
        "The function full_exposure_par is the parallel version of the function full_exposure, and the function diversify_weights can be run in parallel mode by passing the argument parallel=True."
      ],
      "metadata": {
        "id": "bOPDkvgj3tGi"
      }
    }
  ]
}